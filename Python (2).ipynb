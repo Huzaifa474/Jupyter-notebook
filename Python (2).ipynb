{
 "cells": [
  {
   "cell_type": "code",
   "execution_count": 2,
   "id": "cc8262e8-5bb5-4edf-ba30-daa940b00211",
   "metadata": {},
   "outputs": [],
   "source": [
    "import json\n",
    "a=\"Hello\""
   ]
  },
  {
   "cell_type": "markdown",
   "id": "b3fdeed6-8b73-4e7d-b93c-2cc08dd58cc0",
   "metadata": {},
   "source": [
    "print(a)"
   ]
  },
  {
   "cell_type": "code",
   "execution_count": 3,
   "id": "b42a0589-e2d1-45b3-b2e1-874f86a8389d",
   "metadata": {},
   "outputs": [
    {
     "name": "stdout",
     "output_type": "stream",
     "text": [
      "Hello\n"
     ]
    }
   ],
   "source": [
    "print(a)"
   ]
  },
  {
   "cell_type": "code",
   "execution_count": 5,
   "id": "dfdd4edd-6a61-426d-bbf5-8ffe19243e7a",
   "metadata": {},
   "outputs": [
    {
     "data": {
      "text/plain": [
       "str"
      ]
     },
     "execution_count": 5,
     "metadata": {},
     "output_type": "execute_result"
    }
   ],
   "source": [
    "type(a)"
   ]
  },
  {
   "cell_type": "code",
   "execution_count": 6,
   "id": "98b0f8a2-aefc-4a13-9394-c280ec082f2b",
   "metadata": {},
   "outputs": [
    {
     "name": "stdin",
     "output_type": "stream",
     "text": [
      "Enter your Name Huzaifa\n"
     ]
    },
    {
     "name": "stdout",
     "output_type": "stream",
     "text": [
      "Huzaifa\n"
     ]
    }
   ],
   "source": [
    "str=input(\"Enter your Name\")\n",
    "print(str)"
   ]
  },
  {
   "cell_type": "code",
   "execution_count": 9,
   "id": "a9fabd0d-bd4f-4e33-9b50-b336e7e4f55d",
   "metadata": {},
   "outputs": [
    {
     "name": "stdin",
     "output_type": "stream",
     "text": [
      "Enter your Age 22\n"
     ]
    },
    {
     "name": "stdout",
     "output_type": "stream",
     "text": [
      "22\n"
     ]
    }
   ],
   "source": [
    "age=int(input(\"Enter your Age\"))\n",
    "print(age)"
   ]
  },
  {
   "cell_type": "code",
   "execution_count": 14,
   "id": "8d0590b4-a2bc-48d0-b9fb-7db0e9daaa45",
   "metadata": {},
   "outputs": [
    {
     "name": "stdin",
     "output_type": "stream",
     "text": [
      "Enter your Expressions here: 2-3\n"
     ]
    },
    {
     "name": "stdout",
     "output_type": "stream",
     "text": [
      "-1\n"
     ]
    }
   ],
   "source": [
    "exp1=eval(input(\"Enter your Expressions here:\"))\n",
    "print(exp1)"
   ]
  },
  {
   "cell_type": "code",
   "execution_count": 15,
   "id": "4d467a08-0c8f-496f-a4da-6815706d892e",
   "metadata": {},
   "outputs": [
    {
     "name": "stdout",
     "output_type": "stream",
     "text": [
      "<class 'float'>\n"
     ]
    }
   ],
   "source": [
    "no1=31\n",
    "no2=3.66\n",
    "c=no1+no2\n",
    "print(type(c))"
   ]
  },
  {
   "cell_type": "code",
   "execution_count": 16,
   "id": "8086fef5-3543-4402-87b9-5c664faf155e",
   "metadata": {},
   "outputs": [],
   "source": [
    "#Excercise"
   ]
  },
  {
   "cell_type": "code",
   "execution_count": 18,
   "id": "097f7e18-1d34-4518-8ca0-9c01d850270d",
   "metadata": {},
   "outputs": [
    {
     "name": "stdout",
     "output_type": "stream",
     "text": [
      " Huzaifa \n",
      " 23 \n",
      " Karachi\n"
     ]
    }
   ],
   "source": [
    "#Write a program to display persons name ,age and address in three different lines \n",
    "name=\"Huzaifa\"\n",
    "age=23\n",
    "addr=\"Karachi\"\n",
    "print('''''',name,'''\n",
    "''',age,'''\n",
    "''',addr)"
   ]
  },
  {
   "cell_type": "code",
   "execution_count": 22,
   "id": "72f2c0e6-21ec-498b-8fdb-7fb78bb13b3c",
   "metadata": {},
   "outputs": [
    {
     "name": "stdout",
     "output_type": "stream",
     "text": [
      " Huzaifa \n",
      " 23 \n",
      " Karachi\n"
     ]
    }
   ],
   "source": [
    "print(\"\",name,\"\\n\",age,\"\\n\",addr)"
   ]
  },
  {
   "cell_type": "code",
   "execution_count": 26,
   "id": "7d362afb-6663-41a4-8ece-65ae35e1ea18",
   "metadata": {},
   "outputs": [
    {
     "name": "stdout",
     "output_type": "stream",
     "text": [
      "Before Swapping \n",
      " 3 \n",
      " 5\n",
      "After Swapping \n",
      " 5 \n",
      " 3\n"
     ]
    }
   ],
   "source": [
    "#Write a program to swap two variables \n",
    "val1=3\n",
    "val2=5\n",
    "print(\"Before Swapping \\n\",val1,\"\\n\",val2)\n",
    "temp=val1\n",
    "val1=val2\n",
    "val2=temp\n",
    "print(\"After Swapping \\n\",val1,\"\\n\",val2)"
   ]
  },
  {
   "cell_type": "code",
   "execution_count": 27,
   "id": "0815498e-22b3-47bc-905c-a28d09ece698",
   "metadata": {},
   "outputs": [
    {
     "name": "stdout",
     "output_type": "stream",
     "text": [
      "<class 'float'>\n",
      "<class 'int'>\n"
     ]
    }
   ],
   "source": [
    "#Write a program to convert float into integer\n",
    "x=12.4\n",
    "print(type(x))\n",
    "x=int(x)\n",
    "print(type(x))"
   ]
  },
  {
   "cell_type": "code",
   "execution_count": 29,
   "id": "f70d2fca-9e53-467a-9e93-d4b433e31a4b",
   "metadata": {},
   "outputs": [
    {
     "name": "stdin",
     "output_type": "stream",
     "text": [
      "Enter your Name Huzaifa\n",
      "Enrer your grade X-A\n",
      "Enter your age 23\n"
     ]
    },
    {
     "name": "stdout",
     "output_type": "stream",
     "text": [
      "STUDENT IDENTITY CARD\n",
      "Name: Huzaifa \n",
      " Grade X-A \n",
      " Age: 23\n"
     ]
    }
   ],
   "source": [
    "#Write a program to take details from student for ID card and print it in dfferent lines \n",
    "name=input(\"Enter your Name\")\n",
    "grade=input(\"Enrer your grade\")\n",
    "age=int(input(\"Enter your age\"))\n",
    "print(\"STUDENT IDENTITY CARD\")\n",
    "print(\"\\nName:\",name,\"\\n Grade\",grade,\"\\n Age:\",age)\n"
   ]
  },
  {
   "cell_type": "code",
   "execution_count": 30,
   "id": "80ee5db5-bfa8-417e-a5b2-2f344a8a84d1",
   "metadata": {},
   "outputs": [
    {
     "name": "stdin",
     "output_type": "stream",
     "text": [
      "Enter any number 6\n"
     ]
    },
    {
     "name": "stdout",
     "output_type": "stream",
     "text": [
      "6 \t <class 'int'>\n",
      "6.0 \t <class 'float'>\n"
     ]
    }
   ],
   "source": [
    "#Write a program to take input as integer and then convert it into flaot\n",
    "no=int(input(\"Enter any number\"))\n",
    "print(no,\"\\t\",type(no))\n",
    "no=float(no)\n",
    "print(no,\"\\t\",type(no))"
   ]
  },
  {
   "cell_type": "code",
   "execution_count": 1,
   "id": "213ff2d4-96d8-4140-b3ca-717731d76315",
   "metadata": {},
   "outputs": [
    {
     "name": "stdout",
     "output_type": "stream",
     "text": [
      "11\n",
      "9\n",
      "90\n",
      "2.5\n",
      "2\n",
      "2\n",
      "16\n"
     ]
    }
   ],
   "source": [
    "#Arithmetic Operators \n",
    "#(+,-,*,/,//,%,**))\n",
    "# // floor divison\n",
    "# % modulus\n",
    "# ** exponential\n",
    "print(5+6) # Addition\n",
    "print(15-6) # Subtraction\n",
    "print(15*6) #Multiplication\n",
    "print(15/6) #Division\n",
    "print(15//6) #floor division\n",
    "print(5%3) #modulus  \n",
    "print(2**4) # exponational"
   ]
  },
  {
   "cell_type": "code",
   "execution_count": 2,
   "id": "4a3554f4-8e90-4758-8a69-e1861b82062d",
   "metadata": {},
   "outputs": [
    {
     "name": "stdin",
     "output_type": "stream",
     "text": [
      "Enter the first number: 6\n",
      "Enter the second number: 7\n"
     ]
    },
    {
     "name": "stdout",
     "output_type": "stream",
     "text": [
      "Addition of 6 and 7 is 13\n",
      "Subtraction of 6 and 7 is -1\n",
      "Multiplication of 6 and 7 is 42\n",
      "Division of 6 and 7 is 0.8571428571428571\n"
     ]
    }
   ],
   "source": [
    "# Exercise 1  \n",
    "# Create a calculator capable of performing addition, subtraction, multiplication and division operations on two numbers. Your\n",
    "\n",
    "no1=int(input(\"Enter the first number:\"))\n",
    "no2=int(input(\"Enter the second number:\"))\n",
    "print(\"Addition of\",no1,\"and\",no2,\"is\",no1+no2)  \n",
    "print(\"Subtraction of\",no1,\"and\",no2,\"is\",no1-no2)\n",
    "print(\"Multiplication of\",no1,\"and\",no2,\"is\",no1*no2)  \n",
    "print(\"Division of\",no1,\"and\",no2,\"is\",no1/no2)"
   ]
  },
  {
   "cell_type": "code",
   "execution_count": 3,
   "id": "def8c5e0-52c9-4fde-ba66-721f36178423",
   "metadata": {},
   "outputs": [
    {
     "name": "stdout",
     "output_type": "stream",
     "text": [
      "False\n",
      "True\n",
      "False\n",
      "True\n",
      "False\n",
      "True\n"
     ]
    }
   ],
   "source": [
    "no1=5\n",
    "no2=8\n",
    "#Comparison Operators\n",
    "# (>,<,>=,<=,==,!=)  \n",
    "\n",
    "print(no1>no2)\n",
    "print(no1<no2) \n",
    "print(no1>=no2)\n",
    "print(no1<=no2)\n",
    "print(no1==no2)\n",
    "print(no1!=no2)\n"
   ]
  },
  {
   "cell_type": "code",
   "execution_count": 4,
   "id": "d32791cc-d790-494b-9c93-bf8c6a0e4aed",
   "metadata": {},
   "outputs": [
    {
     "name": "stdout",
     "output_type": "stream",
     "text": [
      "False\n",
      "False\n",
      "True\n"
     ]
    }
   ],
   "source": [
    "#Logical Operators\n",
    "# (and,or,not)\n",
    "print(no1>no2 and no1==no2)\n",
    "print(no1>no2 or no1==no2)\n",
    "print(not no1>no2)"
   ]
  },
  {
   "cell_type": "code",
   "execution_count": 9,
   "id": "158db50f-884f-4d70-bc7a-db4ed2a787a2",
   "metadata": {},
   "outputs": [
    {
     "name": "stdout",
     "output_type": "stream",
     "text": [
      "0\n",
      "1\n",
      "0\n",
      "6\n"
     ]
    }
   ],
   "source": [
    "#Assignment Operators \n",
    "#Assignmet operators are used to assign value to python variables\n",
    "#(=,+=,-=,*=)\n",
    "score=0\n",
    "print(score)\n",
    "score+=1   #score=score + 1\n",
    "print(score)\n",
    "score-=1   #score=score - 1\n",
    "print(score)\n",
    "score+=2\n",
    "score*=3\n",
    "print(score)"
   ]
  },
  {
   "cell_type": "code",
   "execution_count": 13,
   "id": "84d664e6-d8be-45ae-914d-1e13609d0b2d",
   "metadata": {},
   "outputs": [
    {
     "name": "stdout",
     "output_type": "stream",
     "text": [
      "False\n",
      "False\n",
      "True\n"
     ]
    }
   ],
   "source": [
    "#identity operators\n",
    "#identity operators are used to comapare that if two variables are of same type \n",
    "#(is,isnot)\n",
    "val1=1234\n",
    "val2=\"1234\"\n",
    "print(val1 is val2) #compare if both belongs to same type i.e belongs to string \n",
    "val2=int(val2)\n",
    "print(val1 is val2) \n",
    "print(val1 is not val2) \n"
   ]
  },
  {
   "cell_type": "code",
   "execution_count": 4,
   "id": "a9035434-196b-4e25-947b-83a5524d2cc0",
   "metadata": {},
   "outputs": [
    {
     "name": "stdout",
     "output_type": "stream",
     "text": [
      "0b1010\n",
      "0b1111\n",
      "8\n",
      "10\n",
      "2\n",
      "2\n",
      "20\n"
     ]
    }
   ],
   "source": [
    "#Bitwise Operators \n",
    "#These are used to compare binary numbers\n",
    "#(AND &,OR |,XOR,<<,>>)\n",
    "#<< Zero fill left shift\n",
    "#>> Zero fill right shift \n",
    "# (&,|,~,^,>>)\n",
    "#These operator are used to compare the binary value of the operands.\n",
    "print(bin(10)) #binary \n",
    "print(bin(15))\n",
    "print(10&8) # AND operation\n",
    "print(10|8) # OR operation\n",
    "# #xor\n",
    "# #similiar no =0\n",
    "# #different no =1\n",
    "print(10^8) #XOR Operation\n",
    "# #zero fill left shift\n",
    "print(10>>2) #removes the last two bits and add zero in the beginning\n",
    "# #zero fill right shift\n",
    "print(10<<1) #add zero in the last"
   ]
  },
  {
   "cell_type": "code",
   "execution_count": 5,
   "id": "70632284-d008-4a52-80af-ce236294370c",
   "metadata": {},
   "outputs": [
    {
     "name": "stdout",
     "output_type": "stream",
     "text": [
      "False\n",
      "True\n",
      "True\n"
     ]
    }
   ],
   "source": [
    "#Membership operators\n",
    "#(in,not in)\n",
    "str=\"Hello\"\n",
    "print(\"p\" in str)\n",
    "print(\"o\" in str)\n",
    "print(\"p\" not in str)"
   ]
  },
  {
   "cell_type": "code",
   "execution_count": 6,
   "id": "98ae4b8c-5730-4192-b324-5f2907c946e3",
   "metadata": {},
   "outputs": [
    {
     "name": "stdout",
     "output_type": "stream",
     "text": [
      "i am inside if condition\n"
     ]
    }
   ],
   "source": [
    "#Conditonal Operators\n",
    "#(if,else,elif)\n",
    "#Conditonal Statement allows computer to execute a certain condition only if it is true.\n",
    "# if(condition):\n",
    "a=5\n",
    "if a>3:\n",
    "    print(\"i am inside if condition\")"
   ]
  },
  {
   "cell_type": "code",
   "execution_count": 8,
   "id": "676c003d-8c98-43fc-8ef0-0b207fb61aa8",
   "metadata": {},
   "outputs": [
    {
     "name": "stdout",
     "output_type": "stream",
     "text": [
      "i am outside if condition\n"
     ]
    }
   ],
   "source": [
    "if a<3:\n",
    "    print(\"i am inside if condition\")\n",
    "print(\"i am outside if condition\")"
   ]
  },
  {
   "cell_type": "code",
   "execution_count": 9,
   "id": "7dee9733-8caf-4b5d-9b69-be4ce292a743",
   "metadata": {},
   "outputs": [
    {
     "name": "stdout",
     "output_type": "stream",
     "text": [
      "you pick up red ball\n"
     ]
    }
   ],
   "source": [
    "#if-else condition\n",
    "#these are used when we are confirmed that either one out of two condition will be true \n",
    "ball1=\"red\"\n",
    "if ball1==\"red\":\n",
    "    print(\"you pick up red ball\")\n",
    "else:\n",
    "    print(\"you picked up green ball\")"
   ]
  },
  {
   "cell_type": "code",
   "execution_count": 15,
   "id": "b642cd2b-4b3b-4859-bad8-31bedff82f64",
   "metadata": {},
   "outputs": [
    {
     "name": "stdout",
     "output_type": "stream",
     "text": [
      "marks are less then 90\n"
     ]
    }
   ],
   "source": [
    "marks=85\n",
    "if marks>=90:\n",
    "    print(\"Marks are greater than 90\")\n",
    "else:\n",
    "    print(\"marks are less then 90\")"
   ]
  },
  {
   "cell_type": "code",
   "execution_count": 16,
   "id": "af89d5d5-60ac-404b-a63c-d39fafeaa824",
   "metadata": {},
   "outputs": [
    {
     "name": "stdout",
     "output_type": "stream",
     "text": [
      "A GRADE\n"
     ]
    }
   ],
   "source": [
    "#if-elif-else condition\n",
    "#these are used when we have multiiple condition \n",
    "if marks>=90:\n",
    "    print(\"A+ GRADE\")\n",
    "elif marks>=80 and marks<90:\n",
    "    print(\"A GRADE\")\n",
    "elif marks>=70 and marks<80:\n",
    "    print(\"B GRADE\")\n",
    "elif marks>=60 and marks<70:\n",
    "    print(\"C GRADE\")\n",
    "else:\n",
    "    print(\"FAIL\")"
   ]
  },
  {
   "cell_type": "code",
   "execution_count": 17,
   "id": "c4cd3b0a-bc7c-484d-9513-21681c51f5b9",
   "metadata": {},
   "outputs": [
    {
     "name": "stdout",
     "output_type": "stream",
     "text": [
      "You will get a new phone\n"
     ]
    }
   ],
   "source": [
    "#Nested if statement\n",
    "if marks>=80:\n",
    "    print(\"You will get a new phone\")\n",
    "    if marks>95:\n",
    "        print(\"you will get a trip too\")\n",
    "else:\n",
    "    print(\"Better Luck next time\")"
   ]
  },
  {
   "cell_type": "code",
   "execution_count": 18,
   "id": "b71f0573-d549-42fb-8ab3-4bd4f367b02d",
   "metadata": {},
   "outputs": [
    {
     "name": "stdout",
     "output_type": "stream",
     "text": [
      "you will get a new phone\n"
     ]
    }
   ],
   "source": [
    "if marks>=90:\n",
    "    print(\"You will get a new phone\")\n",
    "    print(\"you will get a trip too\")\n",
    "elif marks>80 and marks<90:\n",
    "        print(\"you will get a new phone\")\n",
    "else:\n",
    "    print(\"Better Luck next time\")"
   ]
  },
  {
   "cell_type": "code",
   "execution_count": 19,
   "id": "d3854283-81ff-4be5-bdfc-fc86c8010089",
   "metadata": {},
   "outputs": [
    {
     "name": "stdout",
     "output_type": "stream",
     "text": [
      "TRY AGAIN\n"
     ]
    }
   ],
   "source": [
    "#Short hand if=else statement\n",
    "print(\"You will get a new phone\") if marks>=90 else print(\"TRY AGAIN\")"
   ]
  },
  {
   "cell_type": "code",
   "execution_count": 20,
   "id": "57332a3b-aaf9-462b-bdf5-9163ab662c4f",
   "metadata": {},
   "outputs": [],
   "source": [
    "#Exercise"
   ]
  },
  {
   "cell_type": "code",
   "execution_count": 24,
   "id": "6b9f07bf-f296-48ec-a8bc-6b51c0990a95",
   "metadata": {},
   "outputs": [
    {
     "name": "stdin",
     "output_type": "stream",
     "text": [
      "Enter any Numeber 7\n"
     ]
    },
    {
     "name": "stdout",
     "output_type": "stream",
     "text": [
      "POSITIVE\n"
     ]
    }
   ],
   "source": [
    "#Write a program to check if the number is positive or not\n",
    "no=int(input(\"Enter any Numeber\"))\n",
    "print(\"POSITIVE\") if no>0 else print(\"NEGATIVE\")"
   ]
  },
  {
   "cell_type": "code",
   "execution_count": 25,
   "id": "12a554db-ba92-4b3c-9a5d-3e00165c7edb",
   "metadata": {},
   "outputs": [
    {
     "name": "stdout",
     "output_type": "stream",
     "text": [
      "ODD\n"
     ]
    }
   ],
   "source": [
    "#Write a program to check if the number is odd or even\n",
    "print(\"EVEN\") if no%2==0 else print(\"ODD\")"
   ]
  },
  {
   "cell_type": "code",
   "execution_count": 37,
   "id": "97cbca8d-838e-4c26-9d5b-c06cd4eabf00",
   "metadata": {},
   "outputs": [
    {
     "name": "stdout",
     "output_type": "stream",
     "text": [
      "*****AREA CALCULATOR*****\n",
      "PRESS 1 FOR AREA OF SQUARE\n",
      "PRESS 2 FOR AREA OF RECTRANGLE\n",
      "PRESS 3 FOR AREA OF CIRCLE\n",
      "PRESS 4 FOR AREA OF TRIANGLE\n"
     ]
    },
    {
     "name": "stdin",
     "output_type": "stream",
     "text": [
      "Enter any No b/w 1-4 3\n",
      "Enter Value of Radius of Circle 4\n"
     ]
    },
    {
     "name": "stdout",
     "output_type": "stream",
     "text": [
      "Area of Circle 50.272\n"
     ]
    }
   ],
   "source": [
    "#Write a program to create area calculator\n",
    "print(\"*****AREA CALCULATOR*****\")\n",
    "print(\"\"\"PRESS 1 FOR AREA OF SQUARE\n",
    "PRESS 2 FOR AREA OF RECTRANGLE\n",
    "PRESS 3 FOR AREA OF CIRCLE\n",
    "PRESS 4 FOR AREA OF TRIANGLE\"\"\")\n",
    "inp=int(input(\"Enter any No b/w 1-4\"))\n",
    "if inp == 1:\n",
    "    sides=float(input(\"Enter Length of one side\"))\n",
    "    area=sides**2\n",
    "    print(\"Area of Square:\",area)\n",
    "elif inp == 2:\n",
    "    len=float(input(\"Enter Length\"))\n",
    "    wid=float(input(\"Enter Width\"))\n",
    "    area=len*wid\n",
    "    print(\"Area of Rectangle:\",area)\n",
    "elif inp == 3:\n",
    "    sides=float(input(\"Enter Value of Radius of Circle\"))\n",
    "    area=3.142*(sides**2)\n",
    "    print(\"Area of Circle\",area)\n",
    "elif inp == 4:\n",
    "    bas=float(input(\"Enter Base of Triangle \"))\n",
    "    hei=float(input(\"Enter Height of Triangle\"))\n",
    "    area=0.5*bas*hei\n",
    "    print(\"Area of Triangle:\",area)\n",
    "else:\n",
    "    print(\"INVALID INPUT\")"
   ]
  },
  {
   "cell_type": "code",
   "execution_count": 40,
   "id": "f23d7335-89ac-4c93-ab52-1e17b9a9cbe0",
   "metadata": {},
   "outputs": [
    {
     "name": "stdin",
     "output_type": "stream",
     "text": [
      "Enter any Letter R\n"
     ]
    },
    {
     "name": "stdout",
     "output_type": "stream",
     "text": [
      "NOT A VOWEL\n"
     ]
    }
   ],
   "source": [
    "#Write a Program to Check if the passed letter is vowel or not\n",
    "chr=input(\"Enter any Letter\")\n",
    "print(\"YOU ENTERED VOWEL\") if chr in \"aeiou\" or chr in \"AEIOU\" else print(\"NOT A VOWEL\")"
   ]
  },
  {
   "cell_type": "code",
   "execution_count": 1,
   "id": "431d5c80-49ec-4c9e-a401-1ec8fa51e8a2",
   "metadata": {},
   "outputs": [
    {
     "name": "stdin",
     "output_type": "stream",
     "text": [
      "Enter any Number 5\n"
     ]
    },
    {
     "name": "stdout",
     "output_type": "stream",
     "text": [
      "SINGLE DIGIT NUMBER\n"
     ]
    }
   ],
   "source": [
    "#Write a Program to check if the no is 2 digit no upto five digit\n",
    "no=int(input(\"Enter any Number\"))\n",
    "if no>=0 and no<=9:\n",
    "    print(\"SINGLE DIGIT NUMBER\")\n",
    "elif no>=10 and no<=99:\n",
    "    print(\"DOUBLE DIGIT NUMBER\")\n",
    "elif no>=100 and no<=999:\n",
    "    print(\"TRIPLE DIGIT NUMBER\")\n",
    "elif no>=1000 and no<=9999:\n",
    "    print(\"FOUR DIGIT NUMBER\") \n",
    "elif no>=10000 and no<=99999:\n",
    "    print(\"FIVE DIGIT NUMBER\")\n",
    "else:\n",
    "    print(\"INVALID INPUT\")"
   ]
  },
  {
   "cell_type": "code",
   "execution_count": 2,
   "id": "cd696b99-96e7-4080-836f-1621a977898a",
   "metadata": {},
   "outputs": [
    {
     "name": "stdout",
     "output_type": "stream",
     "text": [
      "1\n",
      "2\n",
      "3\n",
      "4\n",
      "5\n"
     ]
    }
   ],
   "source": [
    "#loops\n",
    "#(for,while)\n",
    "#loops means repitition of a task.\n",
    "#for loop\n",
    "#for loop is used to iterate over a sequence of items.\n",
    "for i in range(1,6):\n",
    "  print(i)"
   ]
  },
  {
   "cell_type": "code",
   "execution_count": 3,
   "id": "04249cc3-8cbf-4e4c-8fb4-b4c715fc03a3",
   "metadata": {},
   "outputs": [
    {
     "name": "stdout",
     "output_type": "stream",
     "text": [
      "Hello from Loop\n",
      "Hello from Loop\n",
      "Hello from Loop\n",
      "Hello from Loop\n",
      "Hello from Loop\n"
     ]
    }
   ],
   "source": [
    "for i in range(1,6):\n",
    "  print(\"Hello from Loop\")"
   ]
  },
  {
   "cell_type": "code",
   "execution_count": 4,
   "id": "b3779cf0-b007-4b69-a92f-0175da5103dd",
   "metadata": {},
   "outputs": [
    {
     "name": "stdout",
     "output_type": "stream",
     "text": [
      "0\n",
      "2\n",
      "4\n"
     ]
    }
   ],
   "source": [
    "for i in range(0,6,2): #2 is step\n",
    "  print(i)"
   ]
  },
  {
   "cell_type": "code",
   "execution_count": 6,
   "id": "050cf9db-6232-4de1-943b-b5ac8af1bd12",
   "metadata": {},
   "outputs": [
    {
     "name": "stdout",
     "output_type": "stream",
     "text": [
      "4 X 1 = 4\n",
      "4 X 2 = 8\n",
      "4 X 3 = 12\n",
      "4 X 4 = 16\n",
      "4 X 5 = 20\n",
      "4 X 6 = 24\n",
      "4 X 7 = 28\n",
      "4 X 8 = 32\n",
      "4 X 9 = 36\n",
      "4 X 10 = 40\n"
     ]
    }
   ],
   "source": [
    "n=4\n",
    "for i in range(1,11):\n",
    "  print(n,\"X\",i,\"=\",n*i)"
   ]
  },
  {
   "cell_type": "code",
   "execution_count": 7,
   "id": "c72ce06a-2997-458f-8ae2-150d5ae176b9",
   "metadata": {},
   "outputs": [
    {
     "name": "stdout",
     "output_type": "stream",
     "text": [
      "0\n",
      "1\n",
      "2\n",
      "3\n",
      "4\n",
      "5\n"
     ]
    }
   ],
   "source": [
    "#while loop\n",
    "#while loop executes till the given condition is true\n",
    "#In while loop the increment os done inside the loop\n",
    "n=0\n",
    "while n<=5:\n",
    "  print(n)\n",
    "  n+=1"
   ]
  },
  {
   "cell_type": "code",
   "execution_count": 8,
   "id": "8c4c5aee-a85c-4331-a5d4-aa8750c24ae5",
   "metadata": {},
   "outputs": [
    {
     "name": "stdout",
     "output_type": "stream",
     "text": [
      "0\n",
      "2\n",
      "4\n",
      "6\n",
      "8\n",
      "10\n"
     ]
    }
   ],
   "source": [
    "n=0\n",
    "while n<=10:\n",
    "  print(n)\n",
    "  n+=2"
   ]
  },
  {
   "cell_type": "code",
   "execution_count": 9,
   "id": "32942dd2-db66-4f35-bddf-9ae2d0fd848c",
   "metadata": {},
   "outputs": [
    {
     "name": "stdout",
     "output_type": "stream",
     "text": [
      "7 X 1 = 7\n",
      "7 X 2 = 14\n",
      "7 X 3 = 21\n",
      "7 X 4 = 28\n",
      "7 X 5 = 35\n",
      "7 X 6 = 42\n",
      "7 X 7 = 49\n",
      "7 X 8 = 56\n",
      "7 X 9 = 63\n",
      "7 X 10 = 70\n"
     ]
    }
   ],
   "source": [
    "#Table of 7\n",
    "n=1\n",
    "a=7\n",
    "while n<=10:\n",
    "  print(a,\"X\",n,\"=\",n*a)\n",
    "  n+=1"
   ]
  },
  {
   "cell_type": "code",
   "execution_count": 12,
   "id": "45c6c20b-f6f1-4776-9ff1-a8c431aaff12",
   "metadata": {},
   "outputs": [
    {
     "name": "stdin",
     "output_type": "stream",
     "text": [
      "Enter a Number 5\n",
      "Enter another Number 3\n"
     ]
    },
    {
     "name": "stdout",
     "output_type": "stream",
     "text": [
      "8\n"
     ]
    },
    {
     "name": "stdin",
     "output_type": "stream",
     "text": [
      "Do you want to stop? k\n",
      "Enter a Number 2\n",
      "Enter another Number 5\n"
     ]
    },
    {
     "name": "stdout",
     "output_type": "stream",
     "text": [
      "7\n"
     ]
    },
    {
     "name": "stdin",
     "output_type": "stream",
     "text": [
      "Do you want to stop? yes\n"
     ]
    }
   ],
   "source": [
    "#while true\n",
    "#it is an infinite loop break statement is used to stop this loop\n",
    "#it is often used while taking inputs from user \n",
    "while True:\n",
    "    no1=int(input(\"Enter a Number\"))\n",
    "    no2=int(input(\"Enter another Number\"))\n",
    "    print(no1+no2)\n",
    "    opt=input(\"Do you want to stop?\")\n",
    "    if opt==\"yes\":\n",
    "        break\n",
    "\n",
    "    \n"
   ]
  },
  {
   "cell_type": "code",
   "execution_count": 15,
   "id": "86d61c88-f19b-49ef-becc-a1befed999b7",
   "metadata": {},
   "outputs": [
    {
     "name": "stdout",
     "output_type": "stream",
     "text": [
      "PUSH UP SET NO 1\n",
      "PUSH UP NO 1\n",
      "PUSH UP NO 2\n",
      "PUSH UP NO 3\n",
      "PUSH UP NO 4\n",
      "PUSH UP NO 5\n",
      "PUSH UP NO 6\n",
      "PUSH UP NO 7\n",
      "PUSH UP NO 8\n",
      "PUSH UP NO 9\n",
      "PUSH UP NO 10\n",
      "PUSH UP SET NO 2\n",
      "PUSH UP NO 1\n",
      "PUSH UP NO 2\n",
      "PUSH UP NO 3\n",
      "PUSH UP NO 4\n",
      "PUSH UP NO 5\n",
      "PUSH UP NO 6\n",
      "PUSH UP NO 7\n",
      "PUSH UP NO 8\n",
      "PUSH UP NO 9\n",
      "PUSH UP NO 10\n",
      "PUSH UP SET NO 3\n",
      "PUSH UP NO 1\n",
      "PUSH UP NO 2\n",
      "PUSH UP NO 3\n",
      "PUSH UP NO 4\n",
      "PUSH UP NO 5\n",
      "PUSH UP NO 6\n",
      "PUSH UP NO 7\n",
      "PUSH UP NO 8\n",
      "PUSH UP NO 9\n",
      "PUSH UP NO 10\n"
     ]
    }
   ],
   "source": [
    "#Nested loops\n",
    "#loops inside loops are called nested loop\n",
    "#nested loops are used to solve pattern problems\n",
    "for i in range(1,4):\n",
    "    print(\"PUSH UP SET NO\",i)\n",
    "    for j in range(1,11):\n",
    "        print(\"PUSH UP NO\",j)\n"
   ]
  },
  {
   "cell_type": "code",
   "execution_count": 16,
   "id": "4e260091-9728-477b-bb4d-8c46ceeecae7",
   "metadata": {},
   "outputs": [
    {
     "name": "stdout",
     "output_type": "stream",
     "text": [
      "12345678910\n",
      "12345678910\n",
      "12345678910\n"
     ]
    }
   ],
   "source": [
    "for i in range(1,4):\n",
    "    for j in range(1,11):\n",
    "        print(j,end=\"\") \n",
    "    print()\n"
   ]
  },
  {
   "cell_type": "code",
   "execution_count": 24,
   "id": "f05e0773-ca5d-4d68-98f1-fbf6e9740846",
   "metadata": {},
   "outputs": [
    {
     "name": "stdout",
     "output_type": "stream",
     "text": [
      "1\n",
      "12\n",
      "123\n",
      "1234\n",
      "12345\n"
     ]
    }
   ],
   "source": [
    "#Outer loop count rows\n",
    "#Inner loop count columns\n",
    "for i in range(1,6):\n",
    "    for j in range(1,i+1):\n",
    "        print(j,end=\"\")\n",
    "    print()"
   ]
  },
  {
   "cell_type": "code",
   "execution_count": 35,
   "id": "d7b5da42-ea31-435c-bea8-9f8378b9277e",
   "metadata": {},
   "outputs": [
    {
     "name": "stdout",
     "output_type": "stream",
     "text": [
      "1\n",
      "2\n",
      "ADD THIS SONG TO THE FAVOURITE\n",
      "4\n",
      "5\n",
      "6\n",
      "7\n",
      "8\n",
      "9\n",
      "10\n"
     ]
    }
   ],
   "source": [
    "#for loops with condtional statement\n",
    "for i in range(1,11):\n",
    "    if i==3:\n",
    "        print(\"ADD THIS SONG TO THE FAVOURITE\")\n",
    "    else:\n",
    "        print(i)"
   ]
  },
  {
   "cell_type": "code",
   "execution_count": 36,
   "id": "430ce646-b517-41d8-aab2-e33e3e5aab4a",
   "metadata": {},
   "outputs": [
    {
     "name": "stdout",
     "output_type": "stream",
     "text": [
      "24\n",
      "48\n",
      "72\n",
      "96\n"
     ]
    }
   ],
   "source": [
    "for i in range(1,101):\n",
    "    if i%8==0 and i%12==0:\n",
    "        print(i)\n",
    "    "
   ]
  },
  {
   "cell_type": "code",
   "execution_count": 37,
   "id": "8b0d7787-953e-415d-8acc-680900df1297",
   "metadata": {},
   "outputs": [
    {
     "name": "stdout",
     "output_type": "stream",
     "text": [
      "1\n",
      "2\n",
      "3\n",
      "4\n",
      "6\n",
      "7\n",
      "8\n",
      "9\n",
      "10\n"
     ]
    }
   ],
   "source": [
    "#BREAK & CONTINUE STATEMENT\n",
    "#CONTINUE STATEMENT IS USED TO SKIP A PARTICULAR CONDITION\n",
    "for i in range(1,11):\n",
    "    if i==5:\n",
    "        continue\n",
    "    else:\n",
    "        print(i)"
   ]
  },
  {
   "cell_type": "code",
   "execution_count": 38,
   "id": "94fed4be-c86e-4424-95d8-3b2c7417a278",
   "metadata": {},
   "outputs": [
    {
     "name": "stdout",
     "output_type": "stream",
     "text": [
      "1\n",
      "2\n",
      "3\n",
      "4\n",
      "5\n",
      "6\n"
     ]
    }
   ],
   "source": [
    "for i in range(1,11):\n",
    "    if i==7:\n",
    "        break\n",
    "    else:\n",
    "        print(i)"
   ]
  },
  {
   "cell_type": "code",
   "execution_count": 41,
   "id": "0ee39934-a38e-4ee1-ad2e-ee4f747f1485",
   "metadata": {},
   "outputs": [
    {
     "name": "stdout",
     "output_type": "stream",
     "text": [
      "650\n"
     ]
    }
   ],
   "source": [
    "#EXCERCISE\n",
    "#Write a program to find the sum of all even no upto 50\n",
    "sum=0\n",
    "for i in range(0,51,2):\n",
    "    sum=sum+i\n",
    "print(sum)\n",
    "    "
   ]
  },
  {
   "cell_type": "code",
   "execution_count": 42,
   "id": "e236fbfd-9092-4554-a412-ed8b2612941b",
   "metadata": {},
   "outputs": [
    {
     "name": "stdout",
     "output_type": "stream",
     "text": [
      "650\n"
     ]
    }
   ],
   "source": [
    "#Write a program to find the sum of all even no upto 50\n",
    "sum=0\n",
    "for i in range(1,51):\n",
    "    if i%2==0:\n",
    "        sum=sum+i\n",
    "print(sum)"
   ]
  },
  {
   "cell_type": "code",
   "execution_count": 47,
   "id": "1acc9fcc-5394-4b07-9ca6-221053fa44a9",
   "metadata": {},
   "outputs": [
    {
     "name": "stdout",
     "output_type": "stream",
     "text": [
      "NUMBERS \t SQURRED\n",
      "1 \t \t 1\n",
      "2 \t \t 4\n",
      "3 \t \t 9\n",
      "4 \t \t 16\n",
      "5 \t \t 25\n",
      "6 \t \t 36\n",
      "7 \t \t 49\n",
      "8 \t \t 64\n",
      "9 \t \t 81\n",
      "10 \t \t 100\n",
      "11 \t \t 121\n",
      "12 \t \t 144\n",
      "13 \t \t 169\n",
      "14 \t \t 196\n",
      "15 \t \t 225\n",
      "16 \t \t 256\n",
      "17 \t \t 289\n",
      "18 \t \t 324\n",
      "19 \t \t 361\n",
      "20 \t \t 400\n"
     ]
    }
   ],
   "source": [
    "#Write a program to write first 20 numbers and their squared numbers\n",
    "print(\"NUMBERS \\t SQURRED\")\n",
    "for i in range(1,21):\n",
    "    print(i,\"\\t \\t\",i**2)\n"
   ]
  },
  {
   "cell_type": "code",
   "execution_count": 49,
   "id": "5b7a49b5-d259-4ee1-9ab9-8acf42987c58",
   "metadata": {},
   "outputs": [
    {
     "name": "stdout",
     "output_type": "stream",
     "text": [
      "100\n"
     ]
    }
   ],
   "source": [
    "#Write a Program to find sum of first 10 odd numbers \n",
    "sum=0\n",
    "i=1\n",
    "while i<=20:\n",
    "    sum+=i\n",
    "    i+=2\n",
    "print(sum)"
   ]
  },
  {
   "cell_type": "code",
   "execution_count": 56,
   "id": "fbfa659c-1381-4059-a0c3-e35894605e14",
   "metadata": {},
   "outputs": [
    {
     "name": "stdout",
     "output_type": "stream",
     "text": [
      "100\n"
     ]
    }
   ],
   "source": [
    "sum=0\n",
    "i=0\n",
    "while i<=20:\n",
    "    if i%2!=0:\n",
    "        sum+=i\n",
    "    i+=1\n",
    "print(sum)"
   ]
  },
  {
   "cell_type": "code",
   "execution_count": 57,
   "id": "81d9312a-a3f8-45c8-9cca-24cee27af6b0",
   "metadata": {},
   "outputs": [
    {
     "name": "stdout",
     "output_type": "stream",
     "text": [
      "24\n",
      "48\n",
      "72\n",
      "96\n"
     ]
    }
   ],
   "source": [
    "#Write a Program to Check if the number is divisible by 8 and 12 upto 100 numbers\n",
    "for i in range(1,101):\n",
    "    if i%8==0 and i%12==0:\n",
    "        print(i)"
   ]
  },
  {
   "cell_type": "code",
   "execution_count": 61,
   "id": "2f0adc18-e457-4dd6-96b6-3614b0bd0644",
   "metadata": {},
   "outputs": [
    {
     "name": "stdout",
     "output_type": "stream",
     "text": [
      "****ABC SUPER MARKET****\n"
     ]
    },
    {
     "name": "stdin",
     "output_type": "stream",
     "text": [
      "Enter Customer Name Alina\n",
      "Enter Amount 333\n",
      "Enter Quantity 2\n",
      "Do you want to Continue? Y/N y\n",
      "Enter Amount 200\n",
      "Enter Quantity 4\n",
      "Do you want to Continue? Y/N n\n"
     ]
    },
    {
     "name": "stdout",
     "output_type": "stream",
     "text": [
      "----------------------------------------\n",
      "Name: Alina\n",
      "Total Amount: 1466.0\n",
      "----------------------------------------\n",
      "********HAPPY SHOPPING**************\n"
     ]
    },
    {
     "name": "stdin",
     "output_type": "stream",
     "text": [
      "Do you want to move to next customer Y/N n\n"
     ]
    }
   ],
   "source": [
    "#Write a Program to Create a Billing System at Super Market\n",
    "print(\"****ABC SUPER MARKET****\")\n",
    "while True:\n",
    "    name=input(\"Enter Customer Name\")\n",
    "    total=0\n",
    "    while True:\n",
    "        amount=float(input(\"Enter Amount\"))\n",
    "        quantity=float(input(\"Enter Quantity\"))\n",
    "        total+=amount*quantity\n",
    "        repeat=input(\"Do you want to Continue? Y/N\")\n",
    "        if repeat==\"N\" or repeat==\"n\":\n",
    "            break\n",
    "    print(\"-\"*40)\n",
    "    print(\"Name:\",name)\n",
    "    print(\"Total Amount:\",total)\n",
    "    print(\"-\"*40)\n",
    "    print(\"********HAPPY SHOPPING**************\")\n",
    "    repeat1=input(\"Do you want to move to next customer Y/N\")\n",
    "    if repeat1==\"n\" or repeat1==\"N\":\n",
    "        break"
   ]
  },
  {
   "cell_type": "code",
   "execution_count": 1,
   "id": "2fbfcf68-8d9f-400e-9289-3e44b2c7d00d",
   "metadata": {},
   "outputs": [
    {
     "name": "stdout",
     "output_type": "stream",
     "text": [
      "41\n"
     ]
    }
   ],
   "source": [
    "#A=\"WHY FIT IN,WHEN YOU ARE BORN TO STAND OUT\"\n",
    "#WRITE A PROGRAM TO FIND THE LENGTH OF THE STRING\n",
    "a=\"WHY FIT IN,WHEN YOU ARE BORN TO STAND OUT\"\n",
    "sum=0\n",
    "for i in a:\n",
    "  sum+=1\n",
    "print(sum)"
   ]
  },
  {
   "cell_type": "code",
   "execution_count": 2,
   "id": "3a7ee3e0-aa59-4edb-b534-6b5cb510f7bb",
   "metadata": {},
   "outputs": [
    {
     "name": "stdout",
     "output_type": "stream",
     "text": [
      "41\n"
     ]
    }
   ],
   "source": [
    "print(len(a))"
   ]
  },
  {
   "cell_type": "code",
   "execution_count": 3,
   "id": "8da0e4e9-9a39-44a9-ba04-152b2bc47d4d",
   "metadata": {},
   "outputs": [
    {
     "name": "stdout",
     "output_type": "stream",
     "text": [
      "4\n"
     ]
    }
   ],
   "source": [
    "#write a Program to print how many times alphabet o is occuring \n",
    "print(a.count('O'))"
   ]
  },
  {
   "cell_type": "code",
   "execution_count": 4,
   "id": "7880c778-f006-473b-957a-9323f42879fb",
   "metadata": {},
   "outputs": [
    {
     "name": "stdout",
     "output_type": "stream",
     "text": [
      "String to Lowercase\n",
      " why fit in,when you are born to stand out\n",
      "String to Uppercase\n",
      " WHY FIT IN,WHEN YOU ARE BORN TO STAND OUT\n"
     ]
    }
   ],
   "source": [
    "#Write a Program to Convert whole string into uppercase and lower case\n",
    "u=a.lower()\n",
    "print(\"String to Lowercase\\n\",u)\n",
    "l=a.upper()\n",
    "print(\"String to Uppercase\\n\",l)"
   ]
  },
  {
   "cell_type": "code",
   "execution_count": 5,
   "id": "78349457-6706-414f-b4e6-bee9c6dbf80c",
   "metadata": {},
   "outputs": [
    {
     "name": "stdout",
     "output_type": "stream",
     "text": [
      "Why Fit In,When You Are Born To Stand Out\n"
     ]
    }
   ],
   "source": [
    "#Write a program to convert following satrings into title case\n",
    "print(a.title())"
   ]
  },
  {
   "cell_type": "code",
   "execution_count": 6,
   "id": "01ea16df-e5a7-4bb8-8760-6a8e5f434be8",
   "metadata": {},
   "outputs": [
    {
     "name": "stdout",
     "output_type": "stream",
     "text": [
      "4\n"
     ]
    }
   ],
   "source": [
    "#Write a program to find the index of \"fit in\"\n",
    "print(a.find(\"FIT IN\"))"
   ]
  },
  {
   "cell_type": "code",
   "execution_count": 7,
   "id": "45403562-0b17-4d18-a52c-3914a19bb5c7",
   "metadata": {},
   "outputs": [
    {
     "name": "stdout",
     "output_type": "stream",
     "text": [
      "1 \n",
      "1 2 \n",
      "1 2 3 \n",
      "1 2 3 4 \n",
      "1 2 3 4 5 \n"
     ]
    }
   ],
   "source": [
    "#PATTERN PROBLEM\n",
    "# 1 \n",
    "# 1 2 \n",
    "# 1 2 3 \n",
    "# 1 2 3 4 \n",
    "# 1 2 3 4 5\n",
    "for i in range(1,6): #Rows\n",
    "  for j in range(1,i+1): #Columns\n",
    "    print(j,end=\" \")\n",
    "  print()"
   ]
  },
  {
   "cell_type": "code",
   "execution_count": 8,
   "id": "f0defe35-c603-443f-8bb5-393caa485557",
   "metadata": {},
   "outputs": [
    {
     "name": "stdout",
     "output_type": "stream",
     "text": [
      "* \n",
      "* * \n",
      "* * * \n",
      "* * * * \n",
      "* * * * * \n"
     ]
    }
   ],
   "source": [
    "# * \n",
    "# * * \n",
    "# * * * \n",
    "# * * * * \n",
    "# * * * * * \n",
    "for i in range(1,6): #Rows\n",
    "  for j in range(1,i+1): #Columns\n",
    "    print(\"*\",end=\" \")\n",
    "  print()"
   ]
  },
  {
   "cell_type": "code",
   "execution_count": 9,
   "id": "84e8d94d-9e8f-4b3d-953b-e40590814f2a",
   "metadata": {},
   "outputs": [
    {
     "name": "stdout",
     "output_type": "stream",
     "text": [
      "1 \n",
      "2 2 \n",
      "3 3 3 \n",
      "4 4 4 4 \n",
      "5 5 5 5 5 \n"
     ]
    }
   ],
   "source": [
    "for i in range(1,6): #Rows\n",
    "  for j in range(1,i+1): #Columns\n",
    "    print(i,end=\" \")\n",
    "  print()"
   ]
  },
  {
   "cell_type": "code",
   "execution_count": 10,
   "id": "1fde71c6-4bc2-4ade-ab87-2cfeb0ef2fba",
   "metadata": {},
   "outputs": [
    {
     "name": "stdout",
     "output_type": "stream",
     "text": [
      "1 1 1 1 1 \n",
      "2 2 2 2 \n",
      "3 3 3 \n",
      "4 4 \n",
      "5 \n"
     ]
    }
   ],
   "source": [
    "for i in range(1,6): #Rows\n",
    "  for j in range(6,i,-1): #Columns\n",
    "    print(i,end=\" \")\n",
    "  print()"
   ]
  },
  {
   "cell_type": "code",
   "execution_count": 11,
   "id": "81d5ce94-820b-47ab-adfd-b0bfe835740b",
   "metadata": {},
   "outputs": [
    {
     "name": "stdout",
     "output_type": "stream",
     "text": [
      "* * * * * \n",
      "* * * * \n",
      "* * * \n",
      "* * \n",
      "* \n"
     ]
    }
   ],
   "source": [
    "for i in range(1,6): #Rows\n",
    "  for j in range(6,i,-1): #Columns\n",
    "    print(\"*\",end=\" \")\n",
    "  print()"
   ]
  },
  {
   "cell_type": "code",
   "execution_count": 14,
   "id": "dd8e3105-7fed-45d0-bd4f-a76f65b49675",
   "metadata": {},
   "outputs": [
    {
     "name": "stdout",
     "output_type": "stream",
     "text": [
      "                                                                                        * \n",
      "                                                                                      * * \n",
      "                                                                                    * * * \n",
      "                                                                                  * * * * \n",
      "                                                                                * * * * * \n"
     ]
    }
   ],
   "source": [
    "for i in range(1,6):\n",
    "  for j in range(45,i,-1):\n",
    "    print(\" \",end=\" \")\n",
    "  for k in range(i):\n",
    "    print(\"*\",end=\" \")\n",
    "  print()"
   ]
  },
  {
   "cell_type": "code",
   "execution_count": 15,
   "id": "582892c7-9f29-4dd9-91cc-1ec392cf567a",
   "metadata": {},
   "outputs": [
    {
     "name": "stdout",
     "output_type": "stream",
     "text": [
      "1 \n",
      "2 1 \n",
      "3 2 1 \n",
      "4 3 2 1 \n",
      "5 4 3 2 1 \n"
     ]
    }
   ],
   "source": [
    "for i in range(1,6):\n",
    "  for j in range(i,0,-1):\n",
    "    print(j,end=\" \")\n",
    "  print()"
   ]
  },
  {
   "cell_type": "code",
   "execution_count": 16,
   "id": "896bf1e1-97ff-46ac-93d2-977e8bed05da",
   "metadata": {},
   "outputs": [
    {
     "name": "stdout",
     "output_type": "stream",
     "text": [
      "* \n",
      "* * \n",
      "* * * \n",
      "* * * * \n",
      "* * * * * \n",
      "* * * * \n",
      "* * * \n",
      "* * \n",
      "* \n",
      "\n"
     ]
    }
   ],
   "source": [
    "for i in range(1,6): #Rows\n",
    "  for j in range(1,i+1): #Columns\n",
    "    print(\"*\",end=\" \")\n",
    "  print()\n",
    "for k in range(1,6): #Rows\n",
    "  for l in range(5,k,-1): #Columns\n",
    "    print(\"*\",end=\" \")\n",
    "  print()"
   ]
  },
  {
   "cell_type": "code",
   "execution_count": 17,
   "id": "670b9183-c065-40a1-9243-1dde10726a9d",
   "metadata": {},
   "outputs": [
    {
     "name": "stdout",
     "output_type": "stream",
     "text": [
      "1 \n",
      "2 4 \n",
      "3 6 9 \n",
      "4 8 12 16 \n",
      "5 10 15 20 25 \n",
      "6 12 18 24 30 36 \n",
      "7 14 21 28 35 42 49 \n",
      "8 16 24 32 40 48 56 64 \n",
      "9 18 27 36 45 54 63 72 81 \n",
      "10 20 30 40 50 60 70 80 90 100 \n"
     ]
    }
   ],
   "source": [
    "for i in range(1,11):\n",
    "  for j in range(1,i+1):\n",
    "    print(i*j,end=\" \")\n",
    "  print()"
   ]
  },
  {
   "cell_type": "code",
   "execution_count": 18,
   "id": "94175c1f-29ea-455b-93a3-c7d642fe0216",
   "metadata": {},
   "outputs": [
    {
     "name": "stdout",
     "output_type": "stream",
     "text": [
      "5\n"
     ]
    }
   ],
   "source": [
    "#STRING MANIPULATION\n",
    "#Strings are combination of numbers,alphabats,symbols enclosed inside quotations\n",
    "a=\"hello\"\n",
    "#length \n",
    "print(len(a))\n",
    "#len function also counts number of spaces in the strings"
   ]
  },
  {
   "cell_type": "code",
   "execution_count": 19,
   "id": "7cbd5d7e-91b9-4e19-acab-2a2e9fb8e9dc",
   "metadata": {},
   "outputs": [
    {
     "name": "stdout",
     "output_type": "stream",
     "text": [
      "1\n"
     ]
    }
   ],
   "source": [
    "#.count()\n",
    "print(a.count(\"o\"))\n",
    "#.count() function helps us find no of specific alphabet or word inside string"
   ]
  },
  {
   "cell_type": "code",
   "execution_count": 22,
   "id": "6ffebd3a-5f0c-4c31-b49d-586f21cc7f91",
   "metadata": {},
   "outputs": [
    {
     "name": "stdout",
     "output_type": "stream",
     "text": [
      "2\n"
     ]
    }
   ],
   "source": [
    "b=\"This is another string .this string is only for example\"\n",
    "print(b.count(\"string\"))"
   ]
  },
  {
   "cell_type": "code",
   "execution_count": 23,
   "id": "c6c36007-bc42-41c4-a734-f35f40a2351e",
   "metadata": {},
   "outputs": [
    {
     "name": "stdout",
     "output_type": "stream",
     "text": [
      "HELLO\n"
     ]
    }
   ],
   "source": [
    "#.upper()\n",
    "#This methodd help us converting the string to the uppercase\n",
    "print(a.upper())"
   ]
  },
  {
   "cell_type": "code",
   "execution_count": 24,
   "id": "9d467f30-0123-446a-9e92-318b970e55e0",
   "metadata": {},
   "outputs": [
    {
     "name": "stdout",
     "output_type": "stream",
     "text": [
      "hello\n"
     ]
    }
   ],
   "source": [
    "#.lower()\n",
    "#This method converts the string into lowercase\n",
    "print(a.lower())"
   ]
  },
  {
   "cell_type": "code",
   "execution_count": 25,
   "id": "3f5462b4-b070-4113-bdcd-2ec2d3851f0e",
   "metadata": {},
   "outputs": [
    {
     "name": "stdout",
     "output_type": "stream",
     "text": [
      "Hello\n"
     ]
    }
   ],
   "source": [
    "#capatilize()\n",
    "#This method converts the first letter of string to uppercase\n",
    "print(a.capitalize())"
   ]
  },
  {
   "cell_type": "code",
   "execution_count": 26,
   "id": "6c6f45d4-2445-4235-b941-c37af4dc16c7",
   "metadata": {},
   "outputs": [
    {
     "name": "stdout",
     "output_type": "stream",
     "text": [
      "4\n"
     ]
    }
   ],
   "source": [
    "#to Find Index of any character\n",
    "print(a.index(\"o\"))"
   ]
  },
  {
   "cell_type": "code",
   "execution_count": 29,
   "id": "5c5652ce-3482-4d77-b795-1dc995dbfca7",
   "metadata": {},
   "outputs": [
    {
     "name": "stdout",
     "output_type": "stream",
     "text": [
      "122\n",
      "84\n"
     ]
    }
   ],
   "source": [
    "str=\"in molecular biology, STRING is a biological database and web resource of known and predicted protein–protein interactions\"\n",
    "print(len(str))\n",
    "print(str.index(\"p\",20,122))"
   ]
  },
  {
   "cell_type": "code",
   "execution_count": 30,
   "id": "23d59043-5cc3-4037-8797-8f6e66b83b72",
   "metadata": {},
   "outputs": [
    {
     "name": "stdout",
     "output_type": "stream",
     "text": [
      "In molecular biology, string is a biological database and web resource of known and predicted protein–protein interactions\n"
     ]
    }
   ],
   "source": [
    "print(str.capitalize())"
   ]
  },
  {
   "cell_type": "code",
   "execution_count": 31,
   "id": "0f07c8ad-0425-40c8-95d9-79fe2b771198",
   "metadata": {},
   "outputs": [
    {
     "name": "stdout",
     "output_type": "stream",
     "text": [
      "in molecular biology, string is a biological database and web resource of known and predicted protein–protein interactions\n"
     ]
    }
   ],
   "source": [
    "#casefold() convert all the capital letters to small\n",
    "print(str.casefold())"
   ]
  },
  {
   "cell_type": "code",
   "execution_count": 32,
   "id": "88811973-0df8-461c-b36c-3272083ee771",
   "metadata": {},
   "outputs": [
    {
     "name": "stdout",
     "output_type": "stream",
     "text": [
      "30\n"
     ]
    }
   ],
   "source": [
    "#find() same as index method\n",
    "print(str.find(\"s\"))"
   ]
  },
  {
   "cell_type": "code",
   "execution_count": 33,
   "id": "52131b39-8285-4d7f-bff4-452212813381",
   "metadata": {},
   "outputs": [
    {
     "name": "stdout",
     "output_type": "stream",
     "text": [
      "51\n"
     ]
    }
   ],
   "source": [
    "print(str.find(\"s\",31,122))"
   ]
  },
  {
   "cell_type": "code",
   "execution_count": 38,
   "id": "0f1cf667-8b45-4860-a7aa-25f7ee084572",
   "metadata": {},
   "outputs": [
    {
     "name": "stdout",
     "output_type": "stream",
     "text": [
      "Apple ,Mango ,and banana,,dates\n"
     ]
    }
   ],
   "source": [
    "#format method joinv two strings \n",
    "fruits=\"Apple ,Mango ,and {},{}\"\n",
    "f_name=\"banana\"\n",
    "f_name1=\",dates\"\n",
    "print(fruits.format(f_name,f_name1))"
   ]
  },
  {
   "cell_type": "code",
   "execution_count": 41,
   "id": "e7ca32b8-7477-48e1-84a1-826f813b53f4",
   "metadata": {},
   "outputs": [
    {
     "data": {
      "text/plain": [
       "'**Huzaifa**'"
      ]
     },
     "execution_count": 41,
     "metadata": {},
     "output_type": "execute_result"
    }
   ],
   "source": [
    "#center()\n",
    "name=\"Huzaifa\"\n",
    "name.center(11,\"*\")\n"
   ]
  },
  {
   "cell_type": "code",
   "execution_count": 47,
   "id": "97a46380-72cf-4684-8c81-eeffe61c6744",
   "metadata": {},
   "outputs": [],
   "source": [
    "#some more String Mehtods\n",
    "a=\"hello\"\n",
    "b=\"Hello123\"\n",
    "c=\"123456\"\n",
    "d=\"HELLO\"\n",
    "e=\" \"\n",
    "f=\"Hello 123\"\n",
    "g=\"1.234\"\n",
    "j=\"Hello I Am Not Going\""
   ]
  },
  {
   "cell_type": "code",
   "execution_count": 14,
   "id": "77cb93e3-7277-4ffa-9b07-eb9a55bf87ab",
   "metadata": {},
   "outputs": [
    {
     "name": "stdout",
     "output_type": "stream",
     "text": [
      "True\n",
      "True\n",
      "True\n",
      "True\n",
      "False\n",
      "False\n",
      "False\n"
     ]
    }
   ],
   "source": [
    "#isalnum() :returns true if all string is alphanumeric characters\n",
    "print(a.isalnum())\n",
    "print(b.isalnum())\n",
    "print(c.isalnum())\n",
    "print(d.isalnum())\n",
    "print(e.isalnum()) #returns false because space does not includes in Alphanumeric\n",
    "print(f.isalnum()) #returns false because string also contain space which is not a alphanumetric\n",
    "print(g.isalnum()) #returns false because special charaters does not includes in Alphanumeric and here decimal point is present which is special characyer"
   ]
  },
  {
   "cell_type": "code",
   "execution_count": 28,
   "id": "4d3afe49-e3f4-4b9a-a9ef-04e9a75471c4",
   "metadata": {},
   "outputs": [
    {
     "name": "stdout",
     "output_type": "stream",
     "text": [
      "True\n",
      "False\n",
      "False\n",
      "True\n",
      "False\n",
      "False\n",
      "False\n"
     ]
    }
   ],
   "source": [
    "#isalpha() returns true if all the string characters are alphabets\n",
    "print(a.isalpha())\n",
    "print(b.isalpha()) #returns falso because string also contain numbers which are not in a alphabats catagory\n",
    "print(c.isalpha()) #returns false because string contain only numbers\n",
    "print(d.isalpha()) #even if alphabats are in uppercase it will return true\n",
    "print(e.isalpha()) #returns false becuase spaces are not included in alphabats catagory \n",
    "print(f.isalpha())\n",
    "print(g.isalpha()) \n"
   ]
  },
  {
   "cell_type": "code",
   "execution_count": 27,
   "id": "a45f5745-cf3f-427d-91fc-239ae05dd8d6",
   "metadata": {},
   "outputs": [
    {
     "name": "stdout",
     "output_type": "stream",
     "text": [
      "False\n",
      "True\n",
      "False\n"
     ]
    }
   ],
   "source": [
    "#isdecmal() #returns true if all characters in a string are in a decimal \n",
    "print(a.isdecimal())\n",
    "print(c.isdecimal()) #returns true because numbers also fall in the decimal catagory\n",
    "print(g.isdecimal()) #returns false because it is considering decimal point as a string"
   ]
  },
  {
   "cell_type": "code",
   "execution_count": 29,
   "id": "b7d53c36-ed05-48cc-97eb-c1b6c6316566",
   "metadata": {},
   "outputs": [
    {
     "name": "stdout",
     "output_type": "stream",
     "text": [
      "True\n"
     ]
    }
   ],
   "source": [
    "#isdigit() returns true if all the characters of string are digits\n",
    "#according to our example if will returns true for variable ' c ' becuase it only contain digits\n",
    "print(c.isdigit())"
   ]
  },
  {
   "cell_type": "code",
   "execution_count": 31,
   "id": "29976c60-2f9e-4a6b-a94e-71d6fa219457",
   "metadata": {},
   "outputs": [
    {
     "name": "stdout",
     "output_type": "stream",
     "text": [
      "True\n",
      "False\n"
     ]
    }
   ],
   "source": [
    "#isnumeric same as isdigit returns true if all the characters of string are numeric\n",
    "print(c.isnumeric())\n",
    "print(g.isdigit())"
   ]
  },
  {
   "cell_type": "code",
   "execution_count": 36,
   "id": "1ce397b2-d0b0-4f69-b385-753a8fdbb7e4",
   "metadata": {},
   "outputs": [
    {
     "name": "stdout",
     "output_type": "stream",
     "text": [
      "True\n",
      "False\n"
     ]
    }
   ],
   "source": [
    "#islower() #checks if all the characters are in lowercase\n",
    "print(a.islower())\n",
    "print(b.islower())"
   ]
  },
  {
   "cell_type": "code",
   "execution_count": 35,
   "id": "3ed9ad8b-8585-4338-8cab-b49976db6927",
   "metadata": {},
   "outputs": [
    {
     "data": {
      "text/plain": [
       "'Hello123'"
      ]
     },
     "execution_count": 35,
     "metadata": {},
     "output_type": "execute_result"
    }
   ],
   "source": [
    "b"
   ]
  },
  {
   "cell_type": "code",
   "execution_count": 38,
   "id": "dca1cca9-c121-4d11-bbf9-b272f557e47b",
   "metadata": {},
   "outputs": [
    {
     "name": "stdout",
     "output_type": "stream",
     "text": [
      "True\n"
     ]
    }
   ],
   "source": [
    "h=\"hello123\"\n",
    "print(h.islower()) #returns true becuase it only counts alphabats"
   ]
  },
  {
   "cell_type": "code",
   "execution_count": 41,
   "id": "3b7177e3-dbfa-4557-bafc-083ee5736b61",
   "metadata": {},
   "outputs": [
    {
     "data": {
      "text/plain": [
       "True"
      ]
     },
     "execution_count": 41,
     "metadata": {},
     "output_type": "execute_result"
    }
   ],
   "source": [
    "#isupper() #checks if all the characters are in uppercase\n",
    "d.isupper()"
   ]
  },
  {
   "cell_type": "code",
   "execution_count": 42,
   "id": "2c8b78f4-b803-4d96-910e-bdd881c6d15a",
   "metadata": {},
   "outputs": [
    {
     "data": {
      "text/plain": [
       "True"
      ]
     },
     "execution_count": 42,
     "metadata": {},
     "output_type": "execute_result"
    }
   ],
   "source": [
    "#isspace() #retruns true if all the characters are spaces\n",
    "e.isspace()"
   ]
  },
  {
   "cell_type": "code",
   "execution_count": 43,
   "id": "ca81fefa-3ba1-43e3-a07c-420cf32f4c29",
   "metadata": {},
   "outputs": [
    {
     "data": {
      "text/plain": [
       "'Hello 123'"
      ]
     },
     "execution_count": 43,
     "metadata": {},
     "output_type": "execute_result"
    }
   ],
   "source": [
    "f"
   ]
  },
  {
   "cell_type": "code",
   "execution_count": 44,
   "id": "e8e3aa29-0a21-4242-9afa-c2e696b99e3b",
   "metadata": {},
   "outputs": [
    {
     "data": {
      "text/plain": [
       "False"
      ]
     },
     "execution_count": 44,
     "metadata": {},
     "output_type": "execute_result"
    }
   ],
   "source": [
    "f.isspace()"
   ]
  },
  {
   "cell_type": "code",
   "execution_count": 45,
   "id": "22f3a5b7-e8b4-4536-919e-9591d20735ae",
   "metadata": {},
   "outputs": [
    {
     "data": {
      "text/plain": [
       "False"
      ]
     },
     "execution_count": 45,
     "metadata": {},
     "output_type": "execute_result"
    }
   ],
   "source": [
    "#isttile()\n",
    "a.istitle()"
   ]
  },
  {
   "cell_type": "code",
   "execution_count": 48,
   "id": "24f8c154-9198-4cb8-868c-a9159958e6fa",
   "metadata": {},
   "outputs": [
    {
     "data": {
      "text/plain": [
       "True"
      ]
     },
     "execution_count": 48,
     "metadata": {},
     "output_type": "execute_result"
    }
   ],
   "source": [
    "j.istitle()"
   ]
  },
  {
   "cell_type": "code",
   "execution_count": 4,
   "id": "ba99783b-9cfd-4e75-b1d7-2c09c41cf695",
   "metadata": {},
   "outputs": [
    {
     "name": "stdout",
     "output_type": "stream",
     "text": [
      "True\n",
      "True\n"
     ]
    }
   ],
   "source": [
    "#endswith()\n",
    "a=\"Harry Potter\"\n",
    "print(a.endswith(\"r\"))\n",
    "print(a.endswith(\"t\",6,9)) #here we checking on specific range that if the it is ending on 't' on our specified range"
   ]
  },
  {
   "cell_type": "code",
   "execution_count": 8,
   "id": "fc0be9c1-2ef7-4e4c-9a6e-8b8f3078e6ec",
   "metadata": {},
   "outputs": [
    {
     "name": "stdout",
     "output_type": "stream",
     "text": [
      "True\n",
      "True\n"
     ]
    }
   ],
   "source": [
    "#startswith()\n",
    "print(a.startswith(\"H\"))\n",
    "print(a.startswith(\"P\",6,9)) #same as previous method that we are testing on specified range "
   ]
  },
  {
   "cell_type": "code",
   "execution_count": 9,
   "id": "1bc5276a-af61-4b7d-9eda-d8a24d584813",
   "metadata": {},
   "outputs": [
    {
     "name": "stdout",
     "output_type": "stream",
     "text": [
      "hARRY pOTTER\n"
     ]
    }
   ],
   "source": [
    "#swapcase() #convert lower case to upper and vice versa\n",
    "print(a.swapcase())"
   ]
  },
  {
   "cell_type": "code",
   "execution_count": 29,
   "id": "24447221-ee25-4626-b78c-5487127d5c8c",
   "metadata": {},
   "outputs": [
    {
     "name": "stdout",
     "output_type": "stream",
     "text": [
      "arry Potter\n",
      "Harry Potter\n"
     ]
    }
   ],
   "source": [
    "#strip() #returns trimmed veriosn \n",
    "b=\"     ******Harry Potter ........\"\n",
    "print(a.strip(\"H\"))\n",
    "print(b.strip(\"* .\"))"
   ]
  },
  {
   "cell_type": "code",
   "execution_count": 32,
   "id": "b1a11e00-ed46-4591-bdbb-794f55dd4349",
   "metadata": {},
   "outputs": [
    {
     "name": "stdout",
     "output_type": "stream",
     "text": [
      "['', 'Pakistan', 'T20WC']\n"
     ]
    }
   ],
   "source": [
    "#spilit() seprates string with some separator\n",
    "hash=\"#Pakistan#T20WC\"\n",
    "print(hash.split(\"#\"))"
   ]
  },
  {
   "cell_type": "code",
   "execution_count": 33,
   "id": "d069e0dc-d014-46aa-9ce3-3c94b1db82d0",
   "metadata": {},
   "outputs": [
    {
     "name": "stdout",
     "output_type": "stream",
     "text": [
      "Harry Potter         is the best movie i have ever watched\n"
     ]
    }
   ],
   "source": [
    "#ljust left alignment\n",
    "m=\"Harry Potter\"\n",
    "n=m.ljust(20)\n",
    "print(n,\"is the best movie i have ever watched\")"
   ]
  },
  {
   "cell_type": "code",
   "execution_count": 34,
   "id": "f60ac53d-ea0f-4c44-b24e-906978a1dab7",
   "metadata": {},
   "outputs": [
    {
     "name": "stdout",
     "output_type": "stream",
     "text": [
      "Harry Potter******** is the best movie i have ever watched\n"
     ]
    }
   ],
   "source": [
    "m=\"Harry Potter\"\n",
    "n=m.ljust(20,\"*\")\n",
    "print(n,\"is the best movie i have ever watched\")"
   ]
  },
  {
   "cell_type": "code",
   "execution_count": 35,
   "id": "50642fa3-7242-4882-835e-7b636521b532",
   "metadata": {},
   "outputs": [
    {
     "name": "stdout",
     "output_type": "stream",
     "text": [
      "********Harry Potter is the best movie i have ever watched\n"
     ]
    }
   ],
   "source": [
    "#rjust right alignment\n",
    "m=\"Harry Potter\"\n",
    "n=m.rjust(20,\"*\")\n",
    "print(n,\"is the best movie i have ever watched\")"
   ]
  },
  {
   "cell_type": "code",
   "execution_count": 36,
   "id": "3297d84f-45c3-44a0-b358-6adebda68670",
   "metadata": {},
   "outputs": [
    {
     "name": "stdout",
     "output_type": "stream",
     "text": [
      "Harry Potter         is the best movie i have ever watched\n"
     ]
    }
   ],
   "source": [
    "m=\"Harry Potter\"\n",
    "n=m.ljust(20)\n",
    "print(n,\"is the best movie i have ever watched\")"
   ]
  },
  {
   "cell_type": "code",
   "execution_count": 2,
   "id": "f3e54b21-c1ce-41a4-821c-273662ae2342",
   "metadata": {},
   "outputs": [
    {
     "name": "stdout",
     "output_type": "stream",
     "text": [
      "Before replace \n",
      " My name is John\n",
      "After replace \n",
      " My name is Lisa\n"
     ]
    }
   ],
   "source": [
    "#replace()\n",
    "a=\"My name is John\"\n",
    "print(\"Before replace \\n\",a)\n",
    "print(\"After replace \\n\",a.replace(\"John\",\"Lisa\"))"
   ]
  },
  {
   "cell_type": "code",
   "execution_count": 39,
   "id": "36e5bedd-fe04-4fd6-b551-d74972ff8356",
   "metadata": {},
   "outputs": [
    {
     "name": "stdout",
     "output_type": "stream",
     "text": [
      "36\n",
      "a\n"
     ]
    }
   ],
   "source": [
    "#rindex() specify the last index \n",
    "a=\"Harry Potter and the Prisnor of Zenda\"\n",
    "print(a.rindex(\"a\"))\n",
    "print(a[a.rindex(\"a\")])"
   ]
  },
  {
   "cell_type": "code",
   "execution_count": 1,
   "id": "8e6a3ed8-63bf-41fa-9f8c-91d1f4f474ca",
   "metadata": {},
   "outputs": [
    {
     "name": "stdout",
     "output_type": "stream",
     "text": [
      "36\n",
      "a\n"
     ]
    }
   ],
   "source": [
    "#rfind same as rindex\n",
    "#we can also give them ranges to search b/w them\n",
    "a=\"Harry Potter and the Prisnor of Zenda\"\n",
    "print(a.rfind(\"a\"))\n",
    "print(a[a.rfind(\"a\")])"
   ]
  },
  {
   "cell_type": "code",
   "execution_count": 6,
   "id": "d649a124-9cd4-4e85-bed0-53a190c6d3e9",
   "metadata": {},
   "outputs": [
    {
     "name": "stdout",
     "output_type": "stream",
     "text": [
      "Harry\n",
      "Potter\n",
      "Harry\n"
     ]
    }
   ],
   "source": [
    "#Slicing of Strings\n",
    "a=\"Harry Potter and the Goblet of fire\"\n",
    "print(a[0:5])\n",
    "print(a[6:12])\n",
    "print(a[:5])"
   ]
  },
  {
   "cell_type": "code",
   "execution_count": 8,
   "id": "b55ea6a6-716e-4cfb-a95b-9fd2d644518f",
   "metadata": {},
   "outputs": [
    {
     "name": "stdout",
     "output_type": "stream",
     "text": [
      "1357\n"
     ]
    }
   ],
   "source": [
    "b=\"12345678\"\n",
    "print(b[::2]) #here '2' defines steps"
   ]
  },
  {
   "cell_type": "code",
   "execution_count": 10,
   "id": "b478a616-a644-452d-8423-518cfd943609",
   "metadata": {},
   "outputs": [
    {
     "name": "stdout",
     "output_type": "stream",
     "text": [
      "87654321\n",
      "7654321\n"
     ]
    }
   ],
   "source": [
    "#reverse\n",
    "print(b[::-1])\n",
    "print(b[6::-1])"
   ]
  },
  {
   "cell_type": "code",
   "execution_count": 11,
   "id": "ef0a809e-6e69-4a35-aa85-6a68068dbb95",
   "metadata": {},
   "outputs": [],
   "source": [
    "#Exercise"
   ]
  },
  {
   "cell_type": "code",
   "execution_count": 29,
   "id": "c435a70b-379e-4b20-88da-d3e46d37c599",
   "metadata": {},
   "outputs": [
    {
     "name": "stdout",
     "output_type": "stream",
     "text": [
      "0\n",
      "1\n",
      "1\n",
      "2\n",
      "3\n",
      "5\n",
      "8\n",
      "13\n",
      "21\n",
      "34\n",
      "55\n"
     ]
    }
   ],
   "source": [
    "#Write a Program to get fabonacci series upto 10\n",
    "a=0\n",
    "b=1\n",
    "print(a)\n",
    "print(b)\n",
    "for i in range(2,11):\n",
    "    c=a+b\n",
    "    #c=0+1=1\n",
    "    #c=1+1=2\n",
    "    #c=1+2=3\n",
    "    a=b  \n",
    "    #a=1\n",
    "    #a=1\n",
    "    #a=2\n",
    "    b=c\n",
    "    #b=1\n",
    "    #b=2\n",
    "    #b=3\n",
    "    print(c)\n",
    "    #0 1 1 2 3"
   ]
  },
  {
   "cell_type": "code",
   "execution_count": 3,
   "id": "f42cd295-3134-405c-8e65-550667c0dd55",
   "metadata": {},
   "outputs": [
    {
     "name": "stdin",
     "output_type": "stream",
     "text": [
      "Enter Range 15\n"
     ]
    },
    {
     "name": "stdout",
     "output_type": "stream",
     "text": [
      "0\n",
      "1\n",
      "1\n",
      "2\n",
      "3\n",
      "5\n",
      "8\n",
      "13\n",
      "21\n",
      "34\n",
      "55\n",
      "89\n",
      "144\n",
      "233\n",
      "377\n"
     ]
    }
   ],
   "source": [
    "a=0\n",
    "b=1\n",
    "n=int(input(\"Enter Range\"))\n",
    "print(a)\n",
    "print(b)\n",
    "if n==1:\n",
    "    print(1)\n",
    "else:\n",
    "    for i in range(2,n):\n",
    "         c=a+b\n",
    "        #c=0+1=1\n",
    "        #c=1+1=2\n",
    "        #c=1+2=3\n",
    "         a=b  \n",
    "    #a=1\n",
    "    #a=1\n",
    "    #a=2\n",
    "         b=c\n",
    "    #b=1\n",
    "    #b=2\n",
    "    #b=3\n",
    "         print(c)\n",
    "    #0 1 1 2 3\n",
    "        \n",
    "   "
   ]
  },
  {
   "cell_type": "code",
   "execution_count": 31,
   "id": "e8a96e87-c5b4-41c8-a99f-c958d411d498",
   "metadata": {},
   "outputs": [
    {
     "name": "stdin",
     "output_type": "stream",
     "text": [
      "Enter any Number 5\n"
     ]
    },
    {
     "name": "stdout",
     "output_type": "stream",
     "text": [
      "PRIME NUMBER\n"
     ]
    }
   ],
   "source": [
    "#Write a Program to check if the number is prime or not\n",
    "n=int(input(\"Enter any Number\"))\n",
    "if n<=1:\n",
    "    print(\"It is not a Prime Number\")\n",
    "else:\n",
    "    for i in range(2,n):\n",
    "        if n%i==0:\n",
    "            print(\"NOT A PRIME NUMBER\")\n",
    "            break\n",
    "        else:\n",
    "            print(\"PRIME NUMBER\")\n",
    "            break"
   ]
  },
  {
   "cell_type": "code",
   "execution_count": 36,
   "id": "347085f3-9321-4b90-b166-4595330998ae",
   "metadata": {},
   "outputs": [
    {
     "name": "stdin",
     "output_type": "stream",
     "text": [
      "Enter any Number 504\n"
     ]
    },
    {
     "name": "stdout",
     "output_type": "stream",
     "text": [
      "NOT PALINDROME\n"
     ]
    }
   ],
   "source": [
    "#palindrome\n",
    "no=input(\"Enter any Number\")\n",
    "temp=no[::-1]\n",
    "if no==temp:\n",
    "    print(\"IS PALINDROME\")\n",
    "else:\n",
    "    print(\"NOT PALINDROME\")"
   ]
  },
  {
   "cell_type": "code",
   "execution_count": 8,
   "id": "03aa282c-37d3-44d1-a7e6-01fe0e156cc8",
   "metadata": {},
   "outputs": [
    {
     "name": "stdin",
     "output_type": "stream",
     "text": [
      "Enter any Number 567\n"
     ]
    },
    {
     "name": "stdout",
     "output_type": "stream",
     "text": [
      "7\n",
      "5677\n",
      "6\n",
      "566\n",
      "5\n",
      "55\n",
      "NOT A PALINDROME\n"
     ]
    }
   ],
   "source": [
    "num=int(input(\"Enter any Number\"))\n",
    "temp=num\n",
    "rev=0\n",
    "while num>0:\n",
    "    dig=num%10\n",
    "    print(dig)\n",
    "    rev=num*10+dig\n",
    "    print(rev)\n",
    "    num=num//10\n",
    "if num==temp:\n",
    "    print(\"PALINDROME\")\n",
    "else:\n",
    "    print(\"NOT A PALINDROME\")"
   ]
  },
  {
   "cell_type": "code",
   "execution_count": 10,
   "id": "f8f148e0-ab7d-493e-ba45-bee3fe2fd48b",
   "metadata": {},
   "outputs": [
    {
     "name": "stdout",
     "output_type": "stream",
     "text": [
      "*****AREA CALCULATOR*****\n",
      "PRESS 1 FOR AREA OF SQUARE\n",
      "    PRESS 2 FOR AREA OF RECTRANGLE\n",
      "    PRESS 3 FOR AREA OF CIRCLE\n",
      "    PRESS 4 FOR AREA OF TRIANGLE\n"
     ]
    },
    {
     "name": "stdin",
     "output_type": "stream",
     "text": [
      "Enter any No b/w 1-4 1\n",
      "Enter Length of one side 4\n"
     ]
    },
    {
     "name": "stdout",
     "output_type": "stream",
     "text": [
      "Area of Square: 16.0\n"
     ]
    },
    {
     "name": "stdin",
     "output_type": "stream",
     "text": [
      "Do you want to Try agian? n\n",
      "Enter Length of one side 5\n"
     ]
    },
    {
     "name": "stdout",
     "output_type": "stream",
     "text": [
      "Area of Square: 25.0\n"
     ]
    },
    {
     "name": "stdin",
     "output_type": "stream",
     "text": [
      "Do you want to Try agian? no\n",
      "Do you want to Continue n\n"
     ]
    },
    {
     "name": "stdout",
     "output_type": "stream",
     "text": [
      "PRESS 1 FOR AREA OF SQUARE\n",
      "    PRESS 2 FOR AREA OF RECTRANGLE\n",
      "    PRESS 3 FOR AREA OF CIRCLE\n",
      "    PRESS 4 FOR AREA OF TRIANGLE\n"
     ]
    },
    {
     "name": "stdin",
     "output_type": "stream",
     "text": [
      "Enter any No b/w 1-4 5\n"
     ]
    },
    {
     "name": "stdout",
     "output_type": "stream",
     "text": [
      "INVALID INPUT\n"
     ]
    },
    {
     "name": "stdin",
     "output_type": "stream",
     "text": [
      "Do you want to Continue N\n"
     ]
    }
   ],
   "source": [
    "#Write a program to create area calculator\n",
    "print(\"*****AREA CALCULATOR*****\")\n",
    "while True:\n",
    "    print(\"\"\"PRESS 1 FOR AREA OF SQUARE\n",
    "    PRESS 2 FOR AREA OF RECTRANGLE\n",
    "    PRESS 3 FOR AREA OF CIRCLE\n",
    "    PRESS 4 FOR AREA OF TRIANGLE\"\"\")\n",
    "    inp=int(input(\"Enter any No b/w 1-4\"))\n",
    "    if inp == 1:\n",
    "        while True: \n",
    "            sides=float(input(\"Enter Length of one side\"))\n",
    "            area=sides**2\n",
    "            print(\"Area of Square:\",area)\n",
    "            repeat=input(\"Do you want to Try agian?\")\n",
    "            if repeat==\"no\" or repeat==\"No\" or repeat==\"NO\":\n",
    "                break\n",
    "    elif inp == 2:\n",
    "        while True:\n",
    "            len=float(input(\"Enter Length\"))\n",
    "            wid=float(input(\"Enter Width\"))\n",
    "            area=len*wid\n",
    "            print(\"Area of Rectangle:\",area)\n",
    "            repeat=input(\"Do You want to Try Again?\")\n",
    "            if repeat==\"no\" or repeat==\"No\" or repeat==\"NO\":\n",
    "                break\n",
    "        \n",
    "    elif inp == 3:\n",
    "        while True:\n",
    "            sides=float(input(\"Enter Value of Radius of Circle\"))\n",
    "            area=3.142*(sides**2)\n",
    "            print(\"Area of Circle\",area)\n",
    "            repeat=input(\"Do You wanrt to Try Agaim?\")\n",
    "            if repeat==\"no\" or repeat==\"No\" or repeat==\"NO\":\n",
    "                break\n",
    "    elif inp == 4:\n",
    "        while True:\n",
    "            bas=float(input(\"Enter Base of Triangle \"))\n",
    "            hei=float(input(\"Enter Height of Triangle\"))\n",
    "            area=0.5*bas*hei\n",
    "            print(\"Area of Triangle:\",area)\n",
    "            repeat=input(\"Do You wanrt to Try Agaim?\")\n",
    "            if repeat==\"no\" or repeat==\"No\" or repeat==\"NO\":\n",
    "                break\n",
    "    else:\n",
    "        print(\"INVALID INPUT\")\n",
    "    repeat1=input(\"Do you want to Continue\")\n",
    "    if repeat1==\"N\":\n",
    "        break"
   ]
  },
  {
   "cell_type": "code",
   "execution_count": 11,
   "id": "2b5dcf71-b2c7-44d6-92da-f15743ab8d12",
   "metadata": {},
   "outputs": [
    {
     "name": "stdout",
     "output_type": "stream",
     "text": [
      "['OOTD', 'YOLO', 'ASAP', 'BRB', 'GTG', 'OTW']\n"
     ]
    }
   ],
   "source": [
    "A=\"OOTD.YOLO.ASAP.BRB.GTG.OTW\"\n",
    "#Write a Program to separate the following string into comma separated value\n",
    "print(A.split(\".\"))"
   ]
  },
  {
   "cell_type": "code",
   "execution_count": 16,
   "id": "cebd01f1-c219-460c-87f6-4902bd956614",
   "metadata": {},
   "outputs": [
    {
     "name": "stdin",
     "output_type": "stream",
     "text": [
      "Enter any thing j;kuiu\n"
     ]
    },
    {
     "name": "stdout",
     "output_type": "stream",
     "text": [
      "[';', 'i', 'j', 'k', 'u', 'u']\n"
     ]
    }
   ],
   "source": [
    "#Write a Program to sort strings alphabatically\n",
    "a=input(\"Enter any thing\")\n",
    "print(sorted(a))"
   ]
  },
  {
   "cell_type": "code",
   "execution_count": 17,
   "id": "eb44ba34-879c-45e4-a12c-8f6c34ba09f8",
   "metadata": {},
   "outputs": [
    {
     "name": "stdout",
     "output_type": "stream",
     "text": [
      "Heo\n"
     ]
    }
   ],
   "source": [
    "#Write a Program a given from a string\n",
    "a=\"Hello\"\n",
    "b=a.replace(\"l\",\"\")\n",
    "print(b)"
   ]
  },
  {
   "cell_type": "code",
   "execution_count": 18,
   "id": "ec30c2ac-3d5c-4795-85f9-51d3c3a16a72",
   "metadata": {},
   "outputs": [
    {
     "name": "stdout",
     "output_type": "stream",
     "text": [
      "FRIENDS\n"
     ]
    }
   ],
   "source": [
    "z=\"F.R.I.E.N.D.S.\"\n",
    "b=z.replace(\".\",\"\")\n",
    "print(b)"
   ]
  },
  {
   "cell_type": "code",
   "execution_count": 21,
   "id": "91a5e78f-e304-4087-985e-02a6f40f37a2",
   "metadata": {},
   "outputs": [
    {
     "name": "stdout",
     "output_type": "stream",
     "text": [
      "7\n"
     ]
    }
   ],
   "source": [
    "#Write a program to check the no of occurance of string in string\n",
    "print(z.count(\".\"))"
   ]
  },
  {
   "cell_type": "code",
   "execution_count": 22,
   "id": "43016b9d-552c-4cd7-ab43-d2f2d187ef65",
   "metadata": {},
   "outputs": [
    {
     "name": "stdin",
     "output_type": "stream",
     "text": [
      "Enter any thing Hello\n"
     ]
    },
    {
     "name": "stdout",
     "output_type": "stream",
     "text": [
      "You Entered: Hello\n",
      "Reversed String olleH\n"
     ]
    }
   ],
   "source": [
    "#Take input from User and Reverse it\n",
    "inp=input(\"Enter any thing\")\n",
    "print(\"You Entered:\",inp)\n",
    "print(\"Reversed String\",inp[::-1])"
   ]
  },
  {
   "cell_type": "code",
   "execution_count": 24,
   "id": "2d90ab54-09fd-401e-9c0e-2d8ea853187c",
   "metadata": {},
   "outputs": [
    {
     "name": "stdin",
     "output_type": "stream",
     "text": [
      "Enter any thing 12345\n"
     ]
    },
    {
     "name": "stdout",
     "output_type": "stream",
     "text": [
      "True\n"
     ]
    }
   ],
   "source": [
    "#Write a Program to check if string contain only digits\n",
    "inp=input(\"Enter any thing\")\n",
    "print(inp.isdigit())"
   ]
  },
  {
   "cell_type": "code",
   "execution_count": 26,
   "id": "9e9164b9-a47c-484a-9f95-7563bcfa258c",
   "metadata": {},
   "outputs": [
    {
     "name": "stdin",
     "output_type": "stream",
     "text": [
      "Enter any thing ACB\n"
     ]
    },
    {
     "name": "stdout",
     "output_type": "stream",
     "text": [
      "NOT A PALINDROME\n"
     ]
    }
   ],
   "source": [
    "#Write a Program to Check if the string is palindrome\n",
    "inp=input(\"Enter any thing\")\n",
    "print(\"PALINDROME\") if inp==inp[::-1] else print(\"NOT A PALINDROME\")"
   ]
  },
  {
   "cell_type": "code",
   "execution_count": 27,
   "id": "7243d36d-7c23-40ac-95b1-2a7f1068efd5",
   "metadata": {},
   "outputs": [
    {
     "name": "stdin",
     "output_type": "stream",
     "text": [
      "Enter any thing hello\n"
     ]
    },
    {
     "name": "stdout",
     "output_type": "stream",
     "text": [
      "No of Vowels 2\n"
     ]
    }
   ],
   "source": [
    "#Write a Program to count no of Vowel in Strings\n",
    "inp=input(\"Enter any thing\")\n",
    "sum=0\n",
    "for i in inp:\n",
    "    if i==\"a\" or i==\"e\" or i==\"i\" or i==\"o\" or i==\"u\":\n",
    "        sum+=1\n",
    "print(\"No of Vowels\",sum)"
   ]
  },
  {
   "cell_type": "code",
   "execution_count": 30,
   "id": "b48903a6-1601-42af-8d7f-fde4a9c57b75",
   "metadata": {},
   "outputs": [
    {
     "name": "stdin",
     "output_type": "stream",
     "text": [
      "Enter any thing hhdk[dk\n"
     ]
    },
    {
     "name": "stdout",
     "output_type": "stream",
     "text": [
      "NOT CAPITAL\n"
     ]
    }
   ],
   "source": [
    "#Write a program to check if first letter of every word starts with capital letter\n",
    "inp=input(\"Enter any thing\")\n",
    "if inp.istitle():\n",
    "    print(\"CAPITAL\")\n",
    "else:\n",
    "    print(\"NOT CAPITAL\")"
   ]
  },
  {
   "cell_type": "code",
   "execution_count": 1,
   "id": "2bed9722-cc4f-44bf-bb36-5e7696dd6767",
   "metadata": {},
   "outputs": [],
   "source": [
    "#Lists\n",
    "#List are the collection of ordered and mutable data \n",
    "#ordered means follows indexing\n",
    "#mutable means once list is created it can be updated"
   ]
  },
  {
   "cell_type": "code",
   "execution_count": 4,
   "id": "815a4158-0247-4717-8d8e-209939dda8fe",
   "metadata": {},
   "outputs": [],
   "source": [
    "fruits=[\"Mango\",\"Apple\",\"Banana\"]\n",
    "mix=[\"String\",1,34,True,12.0]\n",
    "#Multiple datatypes can be written inside a list"
   ]
  },
  {
   "cell_type": "code",
   "execution_count": 5,
   "id": "1c15529e-b5d4-41e5-87bb-959f44641d77",
   "metadata": {},
   "outputs": [
    {
     "name": "stdout",
     "output_type": "stream",
     "text": [
      "['String', 1, 34, True, 12.0]\n",
      "['Mango', 'Apple', 'Banana']\n"
     ]
    }
   ],
   "source": [
    "print(mix)\n",
    "print(fruits)"
   ]
  },
  {
   "cell_type": "code",
   "execution_count": 8,
   "id": "0f61bc01-0d8a-4464-95f4-1cc3ccdf05fb",
   "metadata": {},
   "outputs": [
    {
     "name": "stdout",
     "output_type": "stream",
     "text": [
      "Super man\n",
      "Iron Man\n"
     ]
    }
   ],
   "source": [
    "#List Slicing\n",
    "lis1=[\"Iron Man\",\"Spider man\",\"Super man\",\"Hulk\"]\n",
    "#index  0             1          2          3\n",
    "#      -4            -3         -2          -1\n",
    "print(lis1[2])\n",
    "print(lis1[-4])"
   ]
  },
  {
   "cell_type": "code",
   "execution_count": 3,
   "id": "cd2855f6-8494-4466-9de7-69b2cf3e87c0",
   "metadata": {},
   "outputs": [
    {
     "name": "stdout",
     "output_type": "stream",
     "text": [
      "['B', 'C', 'D', 'E', 'F']\n",
      "['C', 'D']\n",
      "['H', 'G', 'F', 'E', 'D', 'C', 'B', 'A']\n",
      "['A', 'C', 'E', 'G']\n"
     ]
    }
   ],
   "source": [
    "letter=[\"A\",\"B\",\"C\",\"D\",\"E\",\"F\",\"G\",\"H\"]\n",
    "print(letter[1:6])\n",
    "print(letter[2:-4])\n",
    "print(letter[::-1])\n",
    "print(letter[::2])"
   ]
  },
  {
   "cell_type": "code",
   "execution_count": 2,
   "id": "38e6ba93-d84c-4536-919d-482613abde79",
   "metadata": {},
   "outputs": [
    {
     "name": "stdout",
     "output_type": "stream",
     "text": [
      "A\n",
      "B\n",
      "C\n",
      "D\n",
      "E\n",
      "F\n",
      "G\n",
      "H\n"
     ]
    }
   ],
   "source": [
    "#list iteration\n",
    "#using for loop\n",
    "for i in letter:\n",
    "    print(i)"
   ]
  },
  {
   "cell_type": "code",
   "execution_count": 3,
   "id": "c5c95259-4610-4159-9cc1-023a5f7f7cf0",
   "metadata": {},
   "outputs": [
    {
     "name": "stdout",
     "output_type": "stream",
     "text": [
      "A\n",
      "B\n",
      "C\n",
      "D\n",
      "E\n",
      "F\n",
      "G\n",
      "H\n"
     ]
    }
   ],
   "source": [
    "#using range\n",
    "for i in range(len(letter)):\n",
    "    print(letter[i])"
   ]
  },
  {
   "cell_type": "code",
   "execution_count": 4,
   "id": "aa5b6274-cbbd-4065-993e-a4e6dd7f4316",
   "metadata": {},
   "outputs": [
    {
     "name": "stdout",
     "output_type": "stream",
     "text": [
      "A\n",
      "B\n",
      "C\n",
      "D\n",
      "E\n",
      "F\n",
      "G\n",
      "H\n"
     ]
    }
   ],
   "source": [
    "i=0\n",
    "while i<(len(letter)):\n",
    "    print(letter[i])\n",
    "    i+=1"
   ]
  },
  {
   "cell_type": "code",
   "execution_count": 5,
   "id": "03e59a08-0134-4c6e-ac12-d39b1eed2f8f",
   "metadata": {},
   "outputs": [
    {
     "name": "stdout",
     "output_type": "stream",
     "text": [
      "A\n",
      "B\n",
      "C\n",
      "D\n",
      "E\n",
      "F\n",
      "G\n",
      "H\n"
     ]
    },
    {
     "data": {
      "text/plain": [
       "[None, None, None, None, None, None, None, None]"
      ]
     },
     "execution_count": 5,
     "metadata": {},
     "output_type": "execute_result"
    }
   ],
   "source": [
    "[print(i) for i in letter] #short hand for loop"
   ]
  },
  {
   "cell_type": "code",
   "execution_count": 1,
   "id": "26f45d72-b541-4e21-87d6-491f6aa1d1df",
   "metadata": {},
   "outputs": [],
   "source": [
    "#List Functions"
   ]
  },
  {
   "cell_type": "code",
   "execution_count": 4,
   "id": "2a9240dd-972b-4245-878c-fe2bbb64b15e",
   "metadata": {},
   "outputs": [
    {
     "name": "stdout",
     "output_type": "stream",
     "text": [
      "8\n"
     ]
    }
   ],
   "source": [
    "#to find length of List\n",
    "print(len(letter))"
   ]
  },
  {
   "cell_type": "code",
   "execution_count": 5,
   "id": "23b32c51-5490-41d0-898b-abcec379127f",
   "metadata": {},
   "outputs": [
    {
     "name": "stdout",
     "output_type": "stream",
     "text": [
      "1\n"
     ]
    }
   ],
   "source": [
    "#to find the Occurance of Particular element\n",
    "print(letter.count(\"C\"))"
   ]
  },
  {
   "cell_type": "code",
   "execution_count": 7,
   "id": "0534a89f-2e21-409d-a106-27d698ea6bfb",
   "metadata": {},
   "outputs": [
    {
     "name": "stdout",
     "output_type": "stream",
     "text": [
      "['A', 'B', 'C', 'D', 'E', 'F', 'G', 'H', 'J', 'J']\n"
     ]
    }
   ],
   "source": [
    "#to Add element in the list\n",
    "letter.append(\"J\") #Add Element in the last\n",
    "print(letter)"
   ]
  },
  {
   "cell_type": "code",
   "execution_count": 9,
   "id": "b6a6afe5-2f1a-4ca9-a801-d759ea1f19a1",
   "metadata": {},
   "outputs": [
    {
     "name": "stdout",
     "output_type": "stream",
     "text": [
      "['A', 'B', 'K', 'K', 'C', 'D', 'E', 'F', 'G', 'H', 'J', 'J']\n"
     ]
    }
   ],
   "source": [
    "#to Insert Element in any place in the list\n",
    "letter.insert(2,\"K\")\n",
    "print(letter)"
   ]
  },
  {
   "cell_type": "code",
   "execution_count": 10,
   "id": "fb4810c8-8b64-473b-b507-3257a941bcea",
   "metadata": {},
   "outputs": [
    {
     "name": "stdout",
     "output_type": "stream",
     "text": [
      "['A', 'B', 'K', 'C', 'D', 'E', 'F', 'G', 'H', 'J', 'J']\n"
     ]
    }
   ],
   "source": [
    "#to remove item\n",
    "letter.remove(\"K\")\n",
    "print(letter)"
   ]
  },
  {
   "cell_type": "code",
   "execution_count": 11,
   "id": "80820bc9-6252-401f-a9bd-b30e6df984e7",
   "metadata": {},
   "outputs": [
    {
     "name": "stdout",
     "output_type": "stream",
     "text": [
      "['A', 'K', 'C', 'D', 'E', 'F', 'G', 'H', 'J', 'J']\n"
     ]
    }
   ],
   "source": [
    "#to remove element by using index no\n",
    "letter.pop(1)\n",
    "print(letter)"
   ]
  },
  {
   "cell_type": "code",
   "execution_count": 14,
   "id": "49427969-9c65-439f-a0f9-178714edc05d",
   "metadata": {},
   "outputs": [
    {
     "name": "stdout",
     "output_type": "stream",
     "text": [
      "['A', 'K', 'C', 'D', 'E', 'F', 'G', 'H', 'J', 'J']\n"
     ]
    }
   ],
   "source": [
    "#to Create the copy of the list\n",
    "l2=letter.copy()\n",
    "print(l2)"
   ]
  },
  {
   "cell_type": "code",
   "execution_count": 15,
   "id": "ffae924c-a62d-45d9-978a-8a87cddd8dcb",
   "metadata": {},
   "outputs": [
    {
     "name": "stdout",
     "output_type": "stream",
     "text": [
      "8\n"
     ]
    }
   ],
   "source": [
    "#to access an element\n",
    "print(letter.index(\"J\"))"
   ]
  },
  {
   "cell_type": "code",
   "execution_count": 16,
   "id": "7747b9a0-7a6d-4116-98e9-c9c34dc58de0",
   "metadata": {},
   "outputs": [
    {
     "name": "stdout",
     "output_type": "stream",
     "text": [
      "['A', 'K', 'C', 'D', 'E', 'F', 'G', 'H', 'J', 'J', 'L', 'M', 'N']\n"
     ]
    }
   ],
   "source": [
    "c=[\"L\",\"M\",\"N\"]\n",
    "letter.extend(c)\n",
    "print(letter)"
   ]
  },
  {
   "cell_type": "code",
   "execution_count": 19,
   "id": "88167d0e-d628-4416-96d4-e27d891bc0d8",
   "metadata": {},
   "outputs": [
    {
     "name": "stdout",
     "output_type": "stream",
     "text": [
      "['N', 'M', 'L', 'J', 'J', 'H', 'G', 'F', 'E', 'D', 'C', 'K', 'A']\n"
     ]
    }
   ],
   "source": [
    "letter.reverse()\n",
    "print(letter)"
   ]
  },
  {
   "cell_type": "code",
   "execution_count": 20,
   "id": "50ee23e6-2985-4df0-9231-81ee7b5dd13f",
   "metadata": {},
   "outputs": [
    {
     "name": "stdout",
     "output_type": "stream",
     "text": [
      "['A', 'C', 'D', 'E', 'F', 'G', 'H', 'J', 'J', 'K', 'L', 'M', 'N']\n"
     ]
    }
   ],
   "source": [
    "#to Sort the list\n",
    "letter.sort()\n",
    "print(letter)"
   ]
  },
  {
   "cell_type": "code",
   "execution_count": 21,
   "id": "ae7e2ac5-8674-4a61-9b52-e7eb17f2c676",
   "metadata": {},
   "outputs": [
    {
     "name": "stdout",
     "output_type": "stream",
     "text": [
      "[]\n"
     ]
    }
   ],
   "source": [
    "letter.clear()\n",
    "print(letter)"
   ]
  },
  {
   "cell_type": "code",
   "execution_count": 22,
   "id": "a95c3d3c-b11d-46cc-b209-5d38c08f7347",
   "metadata": {},
   "outputs": [],
   "source": [
    "#List Comprehension"
   ]
  },
  {
   "cell_type": "code",
   "execution_count": 24,
   "id": "d7dbd91d-cd54-42f0-9aec-702d74056dac",
   "metadata": {},
   "outputs": [
    {
     "name": "stdout",
     "output_type": "stream",
     "text": [
      "[90, 67, 44, 67, 33, 55, 43, 12]\n"
     ]
    }
   ],
   "source": [
    "l1=[90,67,44,67,33,55,43,12]\n",
    "l2=[]\n",
    "for i in l1:\n",
    "    l2.append(i)\n",
    "print(l2)"
   ]
  },
  {
   "cell_type": "code",
   "execution_count": 25,
   "id": "bbe09dd0-d036-4507-b032-f5952727ab6f",
   "metadata": {},
   "outputs": [
    {
     "name": "stdout",
     "output_type": "stream",
     "text": [
      "[90, 67, 44, 67, 33, 55, 43, 12, 90, 67, 67, 55]\n"
     ]
    }
   ],
   "source": [
    "for i in l1:\n",
    "    if i>45:\n",
    "        l2.append(i)\n",
    "print(l2)"
   ]
  },
  {
   "cell_type": "code",
   "execution_count": 26,
   "id": "d76af43d-3a93-49cf-92f1-0fcd697d1acc",
   "metadata": {},
   "outputs": [],
   "source": [
    "l3=[i for i in l1]"
   ]
  },
  {
   "cell_type": "code",
   "execution_count": 27,
   "id": "2706e635-a9c1-4d15-96ef-fe136fa96996",
   "metadata": {},
   "outputs": [
    {
     "data": {
      "text/plain": [
       "[90, 67, 44, 67, 33, 55, 43, 12]"
      ]
     },
     "execution_count": 27,
     "metadata": {},
     "output_type": "execute_result"
    }
   ],
   "source": [
    "l3"
   ]
  },
  {
   "cell_type": "code",
   "execution_count": 28,
   "id": "92d5f5ae-2dbc-4171-901b-d9641b6d3675",
   "metadata": {},
   "outputs": [],
   "source": [
    "l3=[i for i in l1 if i>45]"
   ]
  },
  {
   "cell_type": "code",
   "execution_count": 29,
   "id": "1d13a637-0d7a-441d-861b-eced6cce55c3",
   "metadata": {},
   "outputs": [
    {
     "data": {
      "text/plain": [
       "[90, 67, 67, 55]"
      ]
     },
     "execution_count": 29,
     "metadata": {},
     "output_type": "execute_result"
    }
   ],
   "source": [
    "l3"
   ]
  },
  {
   "cell_type": "code",
   "execution_count": 30,
   "id": "46011537-4b38-4997-9c3e-b86cfa8394d8",
   "metadata": {},
   "outputs": [],
   "source": [
    "#Excercise"
   ]
  },
  {
   "cell_type": "code",
   "execution_count": 31,
   "id": "adfbb5fb-0a46-41ff-8d24-03e576ce6114",
   "metadata": {},
   "outputs": [
    {
     "name": "stdout",
     "output_type": "stream",
     "text": [
      "['Joe', 'Rachal', 'Monica', 'Ross']\n"
     ]
    }
   ],
   "source": [
    "a=[\"Ross\",\"Rachal\",\"Monica\",\"Joe\"]\n",
    "#Write a Program to Swap 1st and 4th Element\n",
    "a[0],a[3]=a[3],a[0]\n",
    "print(a)"
   ]
  },
  {
   "cell_type": "code",
   "execution_count": 32,
   "id": "cb51ddb1-328f-4eb1-96e3-89afd6cad614",
   "metadata": {},
   "outputs": [
    {
     "name": "stdout",
     "output_type": "stream",
     "text": [
      "['Joe', 'Rachal', 'Alina', 'Monica', 'Ross']\n"
     ]
    }
   ],
   "source": [
    "#Write a Program add new value at second position\n",
    "a.insert(2,\"Alina\")\n",
    "print(a)"
   ]
  },
  {
   "cell_type": "code",
   "execution_count": 33,
   "id": "a6e40bee-1b2e-4dd0-a32c-c769e39f8540",
   "metadata": {},
   "outputs": [
    {
     "name": "stdout",
     "output_type": "stream",
     "text": [
      "['Joe', 'Rachal', 'Alina', 'Ross']\n"
     ]
    }
   ],
   "source": [
    "#Write a Program to Delete Value from 3rd Position\n",
    "a.pop(3)\n",
    "print(a)"
   ]
  },
  {
   "cell_type": "code",
   "execution_count": 35,
   "id": "d3ea17be-5277-4172-ae6e-967a5b124540",
   "metadata": {},
   "outputs": [
    {
     "name": "stdout",
     "output_type": "stream",
     "text": [
      "10920\n"
     ]
    }
   ],
   "source": [
    "#Write a Program to Multiply all the members of the list\n",
    "b=[13,7,10,12]\n",
    "mul=1\n",
    "for i in b:\n",
    "    mul*=i\n",
    "    #13*1=13\n",
    "    #13*7\n",
    "print(mul)"
   ]
  },
  {
   "cell_type": "code",
   "execution_count": 37,
   "id": "20f73360-c565-403a-b1f4-cc78ff0cd16b",
   "metadata": {},
   "outputs": [
    {
     "name": "stdout",
     "output_type": "stream",
     "text": [
      "13\n"
     ]
    }
   ],
   "source": [
    "#Write a Program to find the largest number of the list\n",
    "b.sort()\n",
    "print(b[-1])"
   ]
  },
  {
   "cell_type": "code",
   "execution_count": 38,
   "id": "c17f95f7-2fbd-4fdd-9dee-0e6b5bbb5a6a",
   "metadata": {},
   "outputs": [
    {
     "name": "stdout",
     "output_type": "stream",
     "text": [
      "7\n"
     ]
    }
   ],
   "source": [
    "#Write a Program to find smallest value from the list\n",
    "print(b[0])"
   ]
  },
  {
   "cell_type": "code",
   "execution_count": 40,
   "id": "153486b4-540e-42aa-8675-e7862bc1d6ba",
   "metadata": {},
   "outputs": [],
   "source": [
    "#Tuples\n",
    "#Tuples are the collection of ordered and un-mutable data\n",
    "# unmutable means data cannot be changed"
   ]
  },
  {
   "cell_type": "code",
   "execution_count": 45,
   "id": "a531a4b9-e3a0-4506-aa62-3bcf6f96b437",
   "metadata": {},
   "outputs": [
    {
     "data": {
      "text/plain": [
       "tuple"
      ]
     },
     "execution_count": 45,
     "metadata": {},
     "output_type": "execute_result"
    }
   ],
   "source": [
    "fruits=(\"apple\",\"mango\",\"banana\",1,6,True)\n",
    "type(fruits)"
   ]
  },
  {
   "cell_type": "code",
   "execution_count": 43,
   "id": "27d28906-cf5e-445f-838a-e7305d4ad6a2",
   "metadata": {},
   "outputs": [
    {
     "data": {
      "text/plain": [
       "tuple"
      ]
     },
     "execution_count": 43,
     "metadata": {},
     "output_type": "execute_result"
    }
   ],
   "source": [
    "#Single value tuple\n",
    "f=\"Kiwi\",\n",
    "type(f)"
   ]
  },
  {
   "cell_type": "code",
   "execution_count": 50,
   "id": "6dde820a-cdad-48e8-ad6f-54cf1b8bbe8d",
   "metadata": {},
   "outputs": [
    {
     "name": "stdout",
     "output_type": "stream",
     "text": [
      "('apple', 'mango')\n",
      "('apple', 'mango', 'banana')\n",
      "('apple', 'banana', 6)\n",
      "('banana', 'mango', 'apple')\n"
     ]
    }
   ],
   "source": [
    "#SLICING AND ITERATION IN TUPLE\n",
    "print(fruits[0:2])\n",
    "print(fruits[:3])\n",
    "print(fruits[::2])\n",
    "print(fruits[2::-1])"
   ]
  },
  {
   "cell_type": "code",
   "execution_count": 51,
   "id": "98210586-67f6-412f-a075-ed645b875ee9",
   "metadata": {},
   "outputs": [
    {
     "name": "stdout",
     "output_type": "stream",
     "text": [
      "apple\n",
      "mango\n",
      "banana\n",
      "1\n",
      "6\n",
      "True\n"
     ]
    }
   ],
   "source": [
    "#With For loop\n",
    "for i in fruits:\n",
    "    print(i)"
   ]
  },
  {
   "cell_type": "code",
   "execution_count": 52,
   "id": "ae035e8b-e72e-439d-8cdb-9aeb64c3460e",
   "metadata": {},
   "outputs": [
    {
     "name": "stdout",
     "output_type": "stream",
     "text": [
      "apple\n",
      "mango\n",
      "banana\n",
      "1\n",
      "6\n",
      "True\n"
     ]
    }
   ],
   "source": [
    "for i in range(len(fruits)):\n",
    "    print(fruits[i])"
   ]
  },
  {
   "cell_type": "code",
   "execution_count": 53,
   "id": "319131a7-251a-4f6d-b909-982fd3d98146",
   "metadata": {},
   "outputs": [
    {
     "name": "stdout",
     "output_type": "stream",
     "text": [
      "apple\n",
      "mango\n",
      "banana\n",
      "1\n",
      "6\n",
      "True\n"
     ]
    }
   ],
   "source": [
    "#With while Loop\n",
    "i=0\n",
    "while i<len(fruits):\n",
    "    print(fruits[i])\n",
    "    i+=1\n"
   ]
  },
  {
   "cell_type": "code",
   "execution_count": 56,
   "id": "8dee7900-acc6-4f2f-8d28-44254cd2a1f6",
   "metadata": {},
   "outputs": [
    {
     "name": "stdout",
     "output_type": "stream",
     "text": [
      "Before Converiosn: <class 'tuple'>\n",
      "After Converiosn: <class 'list'>\n",
      "After Converiosn Again: <class 'tuple'>\n",
      "(1, 2, 3, 4, 5, 6, 78)\n"
     ]
    }
   ],
   "source": [
    "a=(1,2,3,4,5,6,)\n",
    "print(\"Before Converiosn:\",type(a))\n",
    "a=list(a)\n",
    "print(\"After Converiosn:\",type(a))\n",
    "a.append(78)\n",
    "a=tuple(a)\n",
    "print(\"After Converiosn Again:\",type(a))\n",
    "print(a)"
   ]
  },
  {
   "cell_type": "code",
   "execution_count": 57,
   "id": "2416f2ca-348e-4334-b0a1-42d09138c341",
   "metadata": {},
   "outputs": [
    {
     "name": "stdout",
     "output_type": "stream",
     "text": [
      "1\n"
     ]
    }
   ],
   "source": [
    "#Tuple Functions\n",
    "print(a.count(2))"
   ]
  },
  {
   "cell_type": "code",
   "execution_count": 58,
   "id": "8ba9b981-ffe5-4072-bb37-f9280cdb2b5b",
   "metadata": {},
   "outputs": [
    {
     "name": "stdout",
     "output_type": "stream",
     "text": [
      "6\n"
     ]
    }
   ],
   "source": [
    "print(a.index(78))"
   ]
  },
  {
   "cell_type": "code",
   "execution_count": 1,
   "id": "51cc3ec8-3c58-4819-9c4c-07ab4646d075",
   "metadata": {},
   "outputs": [],
   "source": [
    "#Problem Solving"
   ]
  },
  {
   "cell_type": "code",
   "execution_count": 4,
   "id": "a7218ee3-8335-4e35-ad2c-64dd33c4c63b",
   "metadata": {},
   "outputs": [
    {
     "name": "stdout",
     "output_type": "stream",
     "text": [
      "{\"name\": \"John\", \"age\": 13, \"marks\": 97}\n"
     ]
    },
    {
     "data": {
      "text/plain": [
       "str"
      ]
     },
     "execution_count": 4,
     "metadata": {},
     "output_type": "execute_result"
    }
   ],
   "source": [
    "#Convert the follwing dictionary to the JSON format\n",
    "student_data={\"name\":\"John\",\"age\":13,\"marks\":97}\n",
    "data=json.dumps(student_data)\n",
    "print(data)\n",
    "type(data)"
   ]
  },
  {
   "cell_type": "code",
   "execution_count": 8,
   "id": "679cdbed-d72b-4f1d-955e-f9fe7cbcb6f5",
   "metadata": {},
   "outputs": [
    {
     "name": "stdout",
     "output_type": "stream",
     "text": [
      "{'name': 'John', 'age': 13, 'marks': 97}\n",
      "13\n"
     ]
    }
   ],
   "source": [
    "#Access the value of age from the given data\n",
    "student_data=\"\"\"{\"name\":\"John\",\"age\":13,\"marks\":97}\"\"\"\n",
    "data=json.loads(student_data)\n",
    "print(data)\n",
    "print(data[\"age\"])"
   ]
  },
  {
   "cell_type": "code",
   "execution_count": 14,
   "id": "c6a2c382-0743-495c-bdbb-b1687b9b9cb5",
   "metadata": {},
   "outputs": [
    {
     "name": "stdout",
     "output_type": "stream",
     "text": [
      "\"{\\\"name\\\":\\\"John\\\",\\\"age\\\":13,\\\"marks\\\":97}\"\n"
     ]
    }
   ],
   "source": [
    "#pretty print the following JSON data\n",
    "data=json.dumps(student_data,indent=4,separators=(\":\",\"=\"))\n",
    "print(data)"
   ]
  },
  {
   "cell_type": "code",
   "execution_count": 18,
   "id": "114c3ede-a320-4356-93ef-a08af6209ea0",
   "metadata": {},
   "outputs": [
    {
     "name": "stdout",
     "output_type": "stream",
     "text": [
      "Data has been added to the file\n"
     ]
    }
   ],
   "source": [
    "#Sort the following JSON keys and print them into file\n",
    "f=open(\"demo.json\",\"w\")\n",
    "data=json.dumps(student_data,indent=4,sort_keys=True)\n",
    "f.write(data)\n",
    "print(\"Data has been added to the file\")"
   ]
  },
  {
   "cell_type": "code",
   "execution_count": 22,
   "id": "6609875c-d919-406b-87d9-d9cba692a16b",
   "metadata": {},
   "outputs": [
    {
     "name": "stdout",
     "output_type": "stream",
     "text": [
      "87\n"
     ]
    }
   ],
   "source": [
    "#Access marks from the nested dictionary \n",
    "student_data=\"\"\"{\"student\":\n",
    "{\"grade\":\n",
    "{\"name\":\"david\",\"marks\":87}\n",
    "}\n",
    "}\"\"\"\n",
    "data=json.loads(student_data)\n",
    "print(data[\"student\"][\"grade\"][\"marks\"])"
   ]
  },
  {
   "cell_type": "code",
   "execution_count": 23,
   "id": "e25ba2c5-c48e-4016-a5af-a36a45692a03",
   "metadata": {},
   "outputs": [],
   "source": [
    "#Dictionary in Python\n",
    "#Dictionary allow user to wirte the data in the form of keys and values"
   ]
  },
  {
   "cell_type": "code",
   "execution_count": 24,
   "id": "1044748d-5f17-41a7-a73f-0e4deb6be8d5",
   "metadata": {},
   "outputs": [
    {
     "name": "stdout",
     "output_type": "stream",
     "text": [
      "{'name': 'John', 'age': 24, 'gender': 'M'}\n"
     ]
    }
   ],
   "source": [
    "emp_data={\n",
    "    \"name\":\"John\",\n",
    "    \"age\":24,\n",
    "    \"gender\":\"M\"\n",
    "}\n",
    "print(emp_data) #to print "
   ]
  },
  {
   "cell_type": "code",
   "execution_count": 27,
   "id": "b4082ac8-4f1d-4b8a-b312-913e12f5408c",
   "metadata": {},
   "outputs": [
    {
     "name": "stdout",
     "output_type": "stream",
     "text": [
      "John\n"
     ]
    }
   ],
   "source": [
    "print(emp_data[\"name\"])"
   ]
  },
  {
   "cell_type": "code",
   "execution_count": 28,
   "id": "892ee478-2d35-4fdd-a7ef-974af281719f",
   "metadata": {},
   "outputs": [],
   "source": [
    "#Iteration in Dictionary"
   ]
  },
  {
   "cell_type": "code",
   "execution_count": 29,
   "id": "c8c83b32-73b6-4605-85a6-baad1689c2cb",
   "metadata": {},
   "outputs": [
    {
     "name": "stdout",
     "output_type": "stream",
     "text": [
      "name\n",
      "age\n",
      "gender\n"
     ]
    }
   ],
   "source": [
    "#to access keys\n",
    "for i in emp_data:\n",
    "    print(i)"
   ]
  },
  {
   "cell_type": "code",
   "execution_count": 30,
   "id": "a9162db7-922b-41ca-9e32-9c1a954d460a",
   "metadata": {},
   "outputs": [
    {
     "name": "stdout",
     "output_type": "stream",
     "text": [
      "John\n",
      "24\n",
      "M\n"
     ]
    }
   ],
   "source": [
    "for i in emp_data: #to access values\n",
    "    print(emp_data[i])"
   ]
  },
  {
   "cell_type": "code",
   "execution_count": 31,
   "id": "bdd9c24e-34aa-4c07-bcc9-e1103dca08e6",
   "metadata": {},
   "outputs": [
    {
     "name": "stdout",
     "output_type": "stream",
     "text": [
      "John\n",
      "24\n",
      "M\n"
     ]
    }
   ],
   "source": [
    "for i in emp_data.values(): #to access values\n",
    "    print(i)"
   ]
  },
  {
   "cell_type": "code",
   "execution_count": 35,
   "id": "8f2555a4-b8bf-4884-8477-a51431f6700e",
   "metadata": {},
   "outputs": [
    {
     "name": "stdout",
     "output_type": "stream",
     "text": [
      "name : John\n",
      "age : 24\n",
      "gender : M\n"
     ]
    }
   ],
   "source": [
    "for i,j in emp_data.items(): #to access values\n",
    "    print(i,\":\",j)"
   ]
  },
  {
   "cell_type": "code",
   "execution_count": 36,
   "id": "381f063b-0fc5-42d0-805c-49fffeccb7fc",
   "metadata": {},
   "outputs": [],
   "source": [
    "#dictionary functions"
   ]
  },
  {
   "cell_type": "code",
   "execution_count": 37,
   "id": "4e6e01d8-b9de-49e5-bb8f-10de9e7249bd",
   "metadata": {},
   "outputs": [
    {
     "name": "stdout",
     "output_type": "stream",
     "text": [
      "John\n"
     ]
    }
   ],
   "source": [
    "#get\n",
    "print(emp_data.get(\"name\"))"
   ]
  },
  {
   "cell_type": "code",
   "execution_count": 38,
   "id": "2cffbc12-bd34-4b69-af3b-c9c44cbeb96d",
   "metadata": {},
   "outputs": [
    {
     "name": "stdout",
     "output_type": "stream",
     "text": [
      "dict_items([('name', 'John'), ('age', 24), ('gender', 'M')])\n"
     ]
    }
   ],
   "source": [
    "#items : to get values in form of tuples\n",
    "print(emp_data.items())"
   ]
  },
  {
   "cell_type": "code",
   "execution_count": 39,
   "id": "c859576c-8a35-4e1c-97ae-0f34d5562e26",
   "metadata": {},
   "outputs": [
    {
     "name": "stdout",
     "output_type": "stream",
     "text": [
      "dict_keys(['name', 'age', 'gender'])\n"
     ]
    }
   ],
   "source": [
    "#keys\n",
    "print(emp_data.keys())"
   ]
  },
  {
   "cell_type": "code",
   "execution_count": 40,
   "id": "95984ccd-0a57-4edc-bbc2-ba918aa14618",
   "metadata": {},
   "outputs": [
    {
     "name": "stdout",
     "output_type": "stream",
     "text": [
      "dict_values(['John', 24, 'M'])\n"
     ]
    }
   ],
   "source": [
    "#values\n",
    "print(emp_data.values())"
   ]
  },
  {
   "cell_type": "code",
   "execution_count": 41,
   "id": "16608cdf-c1e3-4f94-86e4-761c99a12c04",
   "metadata": {},
   "outputs": [
    {
     "name": "stdout",
     "output_type": "stream",
     "text": [
      "{'name': 'John', 'age': 24, 'gender': 'M'}\n"
     ]
    }
   ],
   "source": [
    "#copy\n",
    "b=emp_data.copy()\n",
    "print(b)"
   ]
  },
  {
   "cell_type": "code",
   "execution_count": 44,
   "id": "490d701a-41c6-44f3-9f5a-e3f69dba3635",
   "metadata": {},
   "outputs": [
    {
     "name": "stdout",
     "output_type": "stream",
     "text": [
      "John\n"
     ]
    }
   ],
   "source": [
    "#setdefault() \n",
    "print(emp_data.setdefault(\"name\",\"David\"))"
   ]
  },
  {
   "cell_type": "code",
   "execution_count": 47,
   "id": "8347fb6e-edd7-4707-99e6-66a7a78545c3",
   "metadata": {},
   "outputs": [
    {
     "name": "stdout",
     "output_type": "stream",
     "text": [
      "None\n",
      "{'name': 'David', 'age': 24, 'gender': 'M'}\n"
     ]
    }
   ],
   "source": [
    "#update\n",
    "print(emp_data.update({\"name\":\"David\"}))\n",
    "print(emp_data)"
   ]
  },
  {
   "cell_type": "code",
   "execution_count": 48,
   "id": "8de76c08-74ad-45f9-a5cf-cbafe5c3e3da",
   "metadata": {},
   "outputs": [
    {
     "name": "stdout",
     "output_type": "stream",
     "text": [
      "{'name': 'David', 'gender': 'M'}\n"
     ]
    }
   ],
   "source": [
    "#pop\n",
    "emp_data.pop(\"age\")\n",
    "print(emp_data)"
   ]
  },
  {
   "cell_type": "code",
   "execution_count": 1,
   "id": "499e7973-ae61-4812-9fcc-dfb5ca1b8254",
   "metadata": {},
   "outputs": [],
   "source": [
    "#Nested Dictionary"
   ]
  },
  {
   "cell_type": "code",
   "execution_count": 2,
   "id": "0f164a01-00e9-485a-9ffc-a3b9222d0fcd",
   "metadata": {},
   "outputs": [],
   "source": [
    "employee={\n",
    "    1:{\"name\":\"John\",\"age\":23,\"Gender\":\"M\"},\n",
    "    2:{\"name\":\"Linta\",\"age\":21,\"Gender\":\"F\"},\n",
    "    3:{\"name\":\"Rohan\",\"age\":25,\"Gender\":\"M\"}\n",
    "}"
   ]
  },
  {
   "cell_type": "code",
   "execution_count": 3,
   "id": "fa130537-7fef-43a8-b7cd-86d7bc44c81c",
   "metadata": {},
   "outputs": [
    {
     "name": "stdout",
     "output_type": "stream",
     "text": [
      "{1: {'name': 'John', 'age': 23, 'Gender': 'M'}, 2: {'name': 'Linta', 'age': 21, 'Gender': 'F'}, 3: {'name': 'Rohan', 'age': 25, 'Gender': 'M'}}\n"
     ]
    }
   ],
   "source": [
    "print(employee)"
   ]
  },
  {
   "cell_type": "code",
   "execution_count": 4,
   "id": "840dfc8d-b565-4fef-8a02-7f49a26f3d35",
   "metadata": {},
   "outputs": [],
   "source": [
    "#Accessing Particular items"
   ]
  },
  {
   "cell_type": "code",
   "execution_count": 6,
   "id": "2875fc33-1e70-47cd-b614-44af95e0b3ae",
   "metadata": {},
   "outputs": [
    {
     "name": "stdout",
     "output_type": "stream",
     "text": [
      "Linta\n"
     ]
    }
   ],
   "source": [
    "print(employee[2][\"name\"])"
   ]
  },
  {
   "cell_type": "code",
   "execution_count": 7,
   "id": "baa7346b-9f99-4c0e-8f25-e75cfddba9cc",
   "metadata": {},
   "outputs": [
    {
     "name": "stdout",
     "output_type": "stream",
     "text": [
      "{'name': 'Linta', 'age': 21, 'Gender': 'F'}\n"
     ]
    }
   ],
   "source": [
    "print(employee[2])"
   ]
  },
  {
   "cell_type": "code",
   "execution_count": 8,
   "id": "ed86004f-ef2b-4ce3-a5f5-0a03070f6568",
   "metadata": {},
   "outputs": [
    {
     "data": {
      "text/plain": [
       "'Linta'"
      ]
     },
     "execution_count": 8,
     "metadata": {},
     "output_type": "execute_result"
    }
   ],
   "source": [
    "employee[2].get(\"name\")"
   ]
  },
  {
   "cell_type": "code",
   "execution_count": 9,
   "id": "d44eca78-3d64-4710-813c-52b9325b9d5a",
   "metadata": {},
   "outputs": [],
   "source": [
    "#Problem Solving"
   ]
  },
  {
   "cell_type": "code",
   "execution_count": 10,
   "id": "2780ffe4-fdc2-43f2-a339-f4e4789783dc",
   "metadata": {},
   "outputs": [],
   "source": [
    "#Write a Program to sort dictionary by value"
   ]
  },
  {
   "cell_type": "code",
   "execution_count": 18,
   "id": "1ce15a58-482e-489d-8c35-7761bdcf3880",
   "metadata": {},
   "outputs": [
    {
     "name": "stdout",
     "output_type": "stream",
     "text": [
      "dict_values([1, 2, 3, 4, 5])\n"
     ]
    }
   ],
   "source": [
    "a={\"a\":1,\"b\":2,\"c\":3,\"d\":4,\"e\":5}\n",
    "print(a.values())"
   ]
  },
  {
   "cell_type": "code",
   "execution_count": 12,
   "id": "93bc4f5f-6ae0-4826-b587-3e744d4197af",
   "metadata": {},
   "outputs": [
    {
     "name": "stdout",
     "output_type": "stream",
     "text": [
      "[2, 5, 10, 12, 15]\n"
     ]
    }
   ],
   "source": [
    "print(sorted(a.values()))"
   ]
  },
  {
   "cell_type": "code",
   "execution_count": 13,
   "id": "a07f541f-57b8-44e3-b173-4202c0855bd1",
   "metadata": {},
   "outputs": [
    {
     "name": "stdout",
     "output_type": "stream",
     "text": [
      "{1: 1, 2: 4, 3: 9, 4: 16, 5: 25, 6: 36, 7: 49, 8: 64, 9: 81, 10: 100, 11: 121, 12: 144, 13: 169, 14: 196, 15: 225}\n"
     ]
    }
   ],
   "source": [
    "#Write a Python script to create a dictionary where keys are numbers and values are square of it \n",
    "d={}\n",
    "for i in range(1,16):\n",
    "    d.update({i:i**2})\n",
    "print(d)"
   ]
  },
  {
   "cell_type": "code",
   "execution_count": 19,
   "id": "d061e1f0-7cf6-4d9b-90fb-7ac90d5637a8",
   "metadata": {},
   "outputs": [
    {
     "name": "stdout",
     "output_type": "stream",
     "text": [
      "dict_values([1, 2, 3, 4, 5])\n",
      "120\n"
     ]
    }
   ],
   "source": [
    "#Write a Program to multipily all the items in a dictionary\n",
    "print(a.values())\n",
    "prod=1\n",
    "for i in a.values():\n",
    "    prod*=i\n",
    "print(prod)\n"
   ]
  },
  {
   "cell_type": "code",
   "execution_count": 20,
   "id": "524f4e27-3457-4f54-bdf5-5d3a9da556cf",
   "metadata": {},
   "outputs": [],
   "source": [
    "#Write a Program to sort dictionary by keys"
   ]
  },
  {
   "cell_type": "code",
   "execution_count": 21,
   "id": "f519eec3-df4a-4f55-9e9d-6cb266265953",
   "metadata": {},
   "outputs": [],
   "source": [
    "#Sets\n",
    "#Sets are unordered collection of data every element in a set are unique and mutable"
   ]
  },
  {
   "cell_type": "code",
   "execution_count": 23,
   "id": "64227cb9-b5f2-4484-8b6c-a55a0fb3b319",
   "metadata": {},
   "outputs": [
    {
     "name": "stdout",
     "output_type": "stream",
     "text": [
      "{3, 4, 6, 7, 9}\n"
     ]
    }
   ],
   "source": [
    "s1={3,6,4,7,9}\n",
    "print(s1)"
   ]
  },
  {
   "cell_type": "code",
   "execution_count": 25,
   "id": "f356f41d-1da7-4d68-9abe-11b9d0ee0209",
   "metadata": {},
   "outputs": [
    {
     "name": "stdout",
     "output_type": "stream",
     "text": [
      "{'b', 'h', 'A', 'c'}\n"
     ]
    }
   ],
   "source": [
    "s3={\"A\",\"b\",\"c\",\"h\",\"A\"}\n",
    "print(s3)"
   ]
  },
  {
   "cell_type": "code",
   "execution_count": 26,
   "id": "6f0dda9e-a1a7-41bc-8b6d-b06328e23727",
   "metadata": {},
   "outputs": [
    {
     "name": "stdout",
     "output_type": "stream",
     "text": [
      "b\n",
      "h\n",
      "A\n",
      "c\n"
     ]
    }
   ],
   "source": [
    "#iteration\n",
    "for i in s3:\n",
    "    print(i)"
   ]
  },
  {
   "cell_type": "code",
   "execution_count": 32,
   "id": "34969fb0-b2cf-4bbe-b9a8-4bbbe2a00e70",
   "metadata": {},
   "outputs": [
    {
     "data": {
      "text/plain": [
       "{'c', 'h', 'z'}"
      ]
     },
     "execution_count": 32,
     "metadata": {},
     "output_type": "execute_result"
    }
   ],
   "source": [
    "#sets functions\n",
    " #add\n",
    "s3.add(\"z\")\n",
    "s3"
   ]
  },
  {
   "cell_type": "code",
   "execution_count": 33,
   "id": "e64f9076-5823-4485-a3ec-e0f52f0d008e",
   "metadata": {},
   "outputs": [
    {
     "data": {
      "text/plain": [
       "'c'"
      ]
     },
     "execution_count": 33,
     "metadata": {},
     "output_type": "execute_result"
    }
   ],
   "source": [
    "#pop\n",
    "s3.pop()"
   ]
  },
  {
   "cell_type": "code",
   "execution_count": 35,
   "id": "eebe93bf-a006-44e1-8a46-b23123348196",
   "metadata": {},
   "outputs": [
    {
     "data": {
      "text/plain": [
       "{'z'}"
      ]
     },
     "execution_count": 35,
     "metadata": {},
     "output_type": "execute_result"
    }
   ],
   "source": [
    "#remove\n",
    "s3.remove(\"h\")\n",
    "s3"
   ]
  },
  {
   "cell_type": "code",
   "execution_count": 36,
   "id": "7877ee8b-ad7f-4c09-a20e-d247aa9cd350",
   "metadata": {},
   "outputs": [
    {
     "data": {
      "text/plain": [
       "{'z'}"
      ]
     },
     "execution_count": 36,
     "metadata": {},
     "output_type": "execute_result"
    }
   ],
   "source": [
    "#discard same as remove\n",
    "#copy\n",
    "b=s3.copy()\n",
    "b"
   ]
  },
  {
   "cell_type": "code",
   "execution_count": 17,
   "id": "82522f35-75d6-4bf3-bfc2-f88fdc34e6a5",
   "metadata": {},
   "outputs": [
    {
     "name": "stdout",
     "output_type": "stream",
     "text": [
      "True\n"
     ]
    }
   ],
   "source": [
    "a={\"Ironman\",\"Hulk\",\"Thor\",\"Capt Amrerica\"}\n",
    "b={\"Superman\",\"batman\",\"wonder women\"}\n",
    "c={\"Hulk\",\"Thor\"}\n",
    "\n",
    "#isdisjoint : checks if the elements of set b (second) is available in set a (first)\n",
    "print(a.isdisjoint(b))"
   ]
  },
  {
   "cell_type": "code",
   "execution_count": 3,
   "id": "60b3173b-b493-462d-84f0-8021784ee4a8",
   "metadata": {},
   "outputs": [
    {
     "name": "stdout",
     "output_type": "stream",
     "text": [
      "False\n"
     ]
    }
   ],
   "source": [
    "print(a.isdisjoint(c))"
   ]
  },
  {
   "cell_type": "code",
   "execution_count": 4,
   "id": "521c9f6c-ba08-4c21-8104-110bc96662f6",
   "metadata": {},
   "outputs": [
    {
     "name": "stdout",
     "output_type": "stream",
     "text": [
      "False\n",
      "False\n",
      "True\n"
     ]
    }
   ],
   "source": [
    "#subset :checks if any set is part of any other set\n",
    "print(a.issubset(b))\n",
    "print(a.issubset(c))\n",
    "print(c.issubset(a))"
   ]
  },
  {
   "cell_type": "code",
   "execution_count": 7,
   "id": "345a9a27-2847-41d7-8e34-15a1b27d50f6",
   "metadata": {},
   "outputs": [
    {
     "name": "stdout",
     "output_type": "stream",
     "text": [
      "True\n",
      "False\n"
     ]
    }
   ],
   "source": [
    "#issuperset : if whole set is available in any other set\n",
    "print(a.issuperset(c))\n",
    "print(c.issuperset(a))"
   ]
  },
  {
   "cell_type": "code",
   "execution_count": 11,
   "id": "7e4e9210-42b7-4240-80aa-5b9829afbf83",
   "metadata": {},
   "outputs": [
    {
     "name": "stdout",
     "output_type": "stream",
     "text": [
      "None\n"
     ]
    }
   ],
   "source": [
    "#update\n",
    "print(a.update(b))"
   ]
  },
  {
   "cell_type": "code",
   "execution_count": 15,
   "id": "cc68fee1-a031-4cc8-9199-9704388f32b0",
   "metadata": {},
   "outputs": [
    {
     "name": "stdout",
     "output_type": "stream",
     "text": [
      "{'Hulk', 'Thor', 'Superman', 'wonder women', 'Ironmsn', 'batman', 'Capt Amrerica'}\n",
      "set()\n"
     ]
    }
   ],
   "source": [
    "#union\n",
    "print(a.union(b))\n",
    "print(a.difference(c))"
   ]
  },
  {
   "cell_type": "code",
   "execution_count": 18,
   "id": "9deeacac-9cc7-473b-a902-eda0fee48fd1",
   "metadata": {},
   "outputs": [
    {
     "name": "stdout",
     "output_type": "stream",
     "text": [
      "{'Hulk', 'Thor', 'Ironman', 'Capt Amrerica'}\n"
     ]
    }
   ],
   "source": [
    "#difference\n",
    "d=a.difference(b)\n",
    "print(d)"
   ]
  },
  {
   "cell_type": "code",
   "execution_count": null,
   "id": "0423d100-2b29-46b3-a010-41dd4fc22a39",
   "metadata": {},
   "outputs": [],
   "source": [
    "#clear\n",
    "a.clear()\n",
    "print(a)"
   ]
  }
 ],
 "metadata": {
  "kernelspec": {
   "display_name": "Python 3 (ipykernel)",
   "language": "python",
   "name": "python3"
  },
  "language_info": {
   "codemirror_mode": {
    "name": "ipython",
    "version": 3
   },
   "file_extension": ".py",
   "mimetype": "text/x-python",
   "name": "python",
   "nbconvert_exporter": "python",
   "pygments_lexer": "ipython3",
   "version": "3.11.7"
  }
 },
 "nbformat": 4,
 "nbformat_minor": 5
}
