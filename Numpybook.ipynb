{
 "cells": [
  {
   "cell_type": "code",
   "execution_count": 2,
   "id": "6c220bca-0256-41d1-81ff-e57aeced86fc",
   "metadata": {},
   "outputs": [],
   "source": [
    "import numpy as np\n",
    "import random"
   ]
  },
  {
   "cell_type": "code",
   "execution_count": 31,
   "id": "fff188f2-b4c4-4a8a-941c-6cdd63ba773c",
   "metadata": {},
   "outputs": [
    {
     "name": "stdout",
     "output_type": "stream",
     "text": [
      "[[3.80227561e-01 7.70347899e-01 2.28400243e-01]\n",
      " [7.23207961e-01 3.34922501e-01 5.23444321e-05]\n",
      " [3.10621316e-01 2.91640859e-01 6.53107699e-01]]\n"
     ]
    }
   ],
   "source": [
    "arr=np.random.rand(3,3) #genrate simple numpy array with 3 rows and 3 columns\n",
    "print(arr)"
   ]
  },
  {
   "cell_type": "code",
   "execution_count": 10,
   "id": "cbd93ab7-d902-48b9-9425-0fab580e65da",
   "metadata": {},
   "outputs": [
    {
     "name": "stdout",
     "output_type": "stream",
     "text": [
      "(3, 3)\n",
      "2\n",
      "float64\n"
     ]
    }
   ],
   "source": [
    "#Now checking their shape and dimenisions\n",
    "print(np.shape(arr)) #shape() method indicates that how many rows and columns a array have\n",
    "print(arr.ndim) #tells the dimensions of the array\n",
    "print(arr.dtype) #tells about the type of data in the array"
   ]
  },
  {
   "cell_type": "code",
   "execution_count": 8,
   "id": "92d8822b-33a2-477e-8605-13ca99354a83",
   "metadata": {},
   "outputs": [
    {
     "name": "stdout",
     "output_type": "stream",
     "text": [
      "[[1.39135557 1.08187727 6.85369385]\n",
      " [1.22880612 7.5600399  8.2311044 ]\n",
      " [6.93574115 9.65997553 7.05270309]]\n",
      "\n",
      " [[0.27827111 0.21637545 1.37073877]\n",
      " [0.24576122 1.51200798 1.64622088]\n",
      " [1.38714823 1.93199511 1.41054062]]\n"
     ]
    }
   ],
   "source": [
    "#Scalar Operations on Numpy array \n",
    "print(arr*10) #Simple matrix mutliplication\n",
    "print(\"\\n\",arr+arr) #Addition of two matrix"
   ]
  },
  {
   "cell_type": "code",
   "execution_count": 9,
   "id": "d1791cb9-afc8-4c63-a669-197680179fcd",
   "metadata": {},
   "outputs": [
    {
     "name": "stdout",
     "output_type": "stream",
     "text": [
      "[1 2 3 4]\n"
     ]
    }
   ],
   "source": [
    "#Creating Arrays\n",
    "#one of the very simple method of creating an array is that we can pass a list to array method \n",
    "l=[1,2,3,4]\n",
    "arr1=np.array(l)\n",
    "print(arr1)"
   ]
  },
  {
   "cell_type": "code",
   "execution_count": 14,
   "id": "af7b5cd5-0bc6-4254-a77b-655db50723e5",
   "metadata": {},
   "outputs": [
    {
     "name": "stdout",
     "output_type": "stream",
     "text": [
      "[[1 2 3 4]\n",
      " [5 6 7 8]]\n",
      "\n",
      " 2\n",
      "\n",
      " int32\n",
      "\n",
      " (2, 4)\n"
     ]
    }
   ],
   "source": [
    "#Creating Multidimensional Array\n",
    "#When creating the multidimensional array no of elements must be same in all the lists\n",
    "array_2d=np.array([[1,2,3,4],[5,6,7,8]])\n",
    "print(array_2d)\n",
    "#checking dimnension\n",
    "print(\"\\n\",array_2d.ndim)\n",
    "#checking data type\n",
    "print(\"\\n\",array_2d.dtype)\n",
    "#checking the shape\n",
    "print(\"\\n\",array_2d.shape)"
   ]
  },
  {
   "cell_type": "code",
   "execution_count": 17,
   "id": "404475ac-e181-4d98-adb9-b8352badf783",
   "metadata": {},
   "outputs": [
    {
     "name": "stdout",
     "output_type": "stream",
     "text": [
      "[0. 0. 0. 0. 0. 0. 0. 0. 0. 0. 0. 0.]\n",
      "[1. 1. 1. 1. 1. 1. 1. 1. 1. 1. 1. 1.]\n"
     ]
    }
   ],
   "source": [
    "#There are some other methods as well for creating an arrays like\n",
    "zero_array=np.zeros(12) #creates an array of 12 zero\n",
    "ones_array=np.ones(12) #creates an array of 12 ones\n",
    "print(zero_array)\n",
    "print(ones_array)"
   ]
  },
  {
   "cell_type": "code",
   "execution_count": 20,
   "id": "4c2ac7e9-4437-4343-8df1-3783b229cf25",
   "metadata": {},
   "outputs": [
    {
     "name": "stdout",
     "output_type": "stream",
     "text": [
      "[[0. 0.]\n",
      " [0. 0.]\n",
      " [0. 0.]\n",
      " [0. 0.]]\n",
      "(4, 2)\n",
      "2\n",
      "float64\n"
     ]
    }
   ],
   "source": [
    "#Creating Multidimensional Arrays\n",
    "#2D\n",
    "zero_2darray=np.zeros((4,2)) #creates an array containing zeros having 4 rows and 2 columns\n",
    "print(zero_2darray)\n",
    "print(zero_2darray.shape)\n",
    "print(zero_2darray.ndim)\n",
    "print(zero_2darray.dtype)"
   ]
  },
  {
   "cell_type": "code",
   "execution_count": 22,
   "id": "8020e1b9-b16e-4400-b869-ef30597b4575",
   "metadata": {},
   "outputs": [
    {
     "name": "stdout",
     "output_type": "stream",
     "text": [
      "[[1. 1. 1. 1. 1. 1.]\n",
      " [1. 1. 1. 1. 1. 1.]\n",
      " [1. 1. 1. 1. 1. 1.]]\n",
      "(3, 6)\n",
      "2\n",
      "float64\n"
     ]
    }
   ],
   "source": [
    "#2D Ones array\n",
    "one_2darray=np.ones((3,6)) #creates an array containing zeros having 4 rows and 2 columns\n",
    "print(one_2darray)\n",
    "print(one_2darray.shape)\n",
    "print(one_2darray.ndim)\n",
    "print(one_2darray.dtype)"
   ]
  },
  {
   "cell_type": "code",
   "execution_count": 27,
   "id": "e2e4a330-856c-4b65-b688-79cb5308eecb",
   "metadata": {},
   "outputs": [
    {
     "name": "stdout",
     "output_type": "stream",
     "text": [
      "[[[1. 1. 1. 1. 1. 1.]\n",
      "  [1. 1. 1. 1. 1. 1.]\n",
      "  [1. 1. 1. 1. 1. 1.]]\n",
      "\n",
      " [[1. 1. 1. 1. 1. 1.]\n",
      "  [1. 1. 1. 1. 1. 1.]\n",
      "  [1. 1. 1. 1. 1. 1.]]\n",
      "\n",
      " [[1. 1. 1. 1. 1. 1.]\n",
      "  [1. 1. 1. 1. 1. 1.]\n",
      "  [1. 1. 1. 1. 1. 1.]]]\n",
      "(3, 3, 6)\n",
      "3\n",
      "float64\n"
     ]
    }
   ],
   "source": [
    "#3D Array\n",
    "one_3darray=np.ones((3,3,6)) #creates an array containing ones having 3 rows and 6 columns np.ones((3,3,6)) first no 3 means how many arrays \n",
    "#3 means no of rows\n",
    "#6 means no of columns\n",
    "print(one_3darray)\n",
    "print(one_3darray.shape)\n",
    "print(one_3darray.ndim)\n",
    "print(one_3darray.dtype)"
   ]
  },
  {
   "cell_type": "code",
   "execution_count": 34,
   "id": "b0b09c7b-3259-4667-9904-e99c55c7e66a",
   "metadata": {},
   "outputs": [
    {
     "data": {
      "text/plain": [
       "array([[1., 1., 1., 1., 1., 1.],\n",
       "       [1., 1., 1., 1., 1., 1.],\n",
       "       [1., 1., 1., 1., 1., 1.]])"
      ]
     },
     "execution_count": 34,
     "metadata": {},
     "output_type": "execute_result"
    }
   ],
   "source": [
    "emparr=np.empty((3,6)) # returns garbage values\n",
    "#it will return uninitialized garbage values\n",
    "emparr"
   ]
  },
  {
   "cell_type": "code",
   "execution_count": 35,
   "id": "c65fc659-d102-42d1-bc8b-abece72c1b2d",
   "metadata": {},
   "outputs": [
    {
     "data": {
      "text/plain": [
       "array([[1., 0., 0., 0.],\n",
       "       [0., 1., 0., 0.],\n",
       "       [0., 0., 1., 0.],\n",
       "       [0., 0., 0., 1.]])"
      ]
     },
     "execution_count": 35,
     "metadata": {},
     "output_type": "execute_result"
    }
   ],
   "source": [
    "#eye returns identity array\n",
    "eyearr=np.eye(4)\n",
    "eyearr"
   ]
  },
  {
   "cell_type": "code",
   "execution_count": 37,
   "id": "8bc3359f-c9d2-4139-b2ee-224b9da2cd8c",
   "metadata": {},
   "outputs": [
    {
     "data": {
      "text/plain": [
       "array([ 0,  1,  2,  3,  4,  5,  6,  7,  8,  9, 10, 11])"
      ]
     },
     "execution_count": 37,
     "metadata": {},
     "output_type": "execute_result"
    }
   ],
   "source": [
    "#arange\n",
    "#Another method of creating an numpy array is arange method \n",
    "arr=np.arange(12) #This simply creates an array of  values 0-11 \n",
    "arr"
   ]
  },
  {
   "cell_type": "code",
   "execution_count": 42,
   "id": "ddd0bf1a-ab95-4929-9ab0-d5e4ea51c9ad",
   "metadata": {},
   "outputs": [
    {
     "name": "stdout",
     "output_type": "stream",
     "text": [
      "[1. 2. 3. 4.]\n",
      "[1 2 3 4]\n",
      "float32\n",
      "int32\n"
     ]
    }
   ],
   "source": [
    "#Data type\n",
    "arr=np.array([1,2,3,4],dtype=np.float32)\n",
    "arr1=np.array([1.2,2.9,3.6,4.6],dtype=np.int32)\n",
    "print(arr)\n",
    "print(arr1)\n",
    "print(arr.dtype)\n",
    "print(arr1.dtype)"
   ]
  },
  {
   "cell_type": "code",
   "execution_count": 46,
   "id": "37a4bb27-551c-4245-9df0-9a23c6630c78",
   "metadata": {},
   "outputs": [
    {
     "name": "stdout",
     "output_type": "stream",
     "text": [
      "[1 2 3 4]\n",
      "Before Type  Casting int32\n",
      "[1. 2. 3. 4.]\n",
      "After Type  Casting float32\n"
     ]
    }
   ],
   "source": [
    "#Type Casting\n",
    "arr=np.array([1,2,3,4])\n",
    "print(arr)\n",
    "print(\"Before Type  Casting\",arr.dtype)\n",
    "arr=arr.astype(\"float32\")\n",
    "print(arr)\n",
    "print(\"After Type  Casting\",arr.dtype)"
   ]
  },
  {
   "cell_type": "code",
   "execution_count": 48,
   "id": "dbac8fbb-1839-4b1e-bf37-854a7bd0cd3a",
   "metadata": {},
   "outputs": [
    {
     "name": "stdout",
     "output_type": "stream",
     "text": [
      "[ 3.7 -1.2 -2.6  0.5 12.9 10.1]\n",
      "Before Type  Casting float64\n",
      "[ 3 -1 -2  0 12 10]\n",
      "After Type  Casting int32\n"
     ]
    }
   ],
   "source": [
    "#Type Casting FLoat to Int\n",
    "arr = np.array([3.7, -1.2, -2.6, 0.5, 12.9, 10.1])\n",
    "print(arr)\n",
    "print(\"Before Type  Casting\",arr.dtype)\n",
    "arr=arr.astype(np.int32)\n",
    "print(arr)\n",
    "print(\"After Type  Casting\",arr.dtype)"
   ]
  },
  {
   "cell_type": "code",
   "execution_count": 54,
   "id": "984462ac-d5ad-45db-97bf-e64fb9b3e897",
   "metadata": {},
   "outputs": [
    {
     "name": "stdout",
     "output_type": "stream",
     "text": [
      "['1.25' '-9.6' '42']\n",
      "Before Type  Casting <U4\n",
      "[ 1.25 -9.6  42.  ]\n",
      "After Type  Casting float32\n"
     ]
    }
   ],
   "source": [
    "#Strings to float\n",
    "numeric_strings = np.array(['1.25', '-9.6', '42'])\n",
    "print(numeric_strings)\n",
    "print(\"Before Type  Casting\",numeric_strings.dtype)\n",
    "numeric_strings=numeric_strings.astype(np.float32)\n",
    "print(numeric_strings)\n",
    "print(\"After Type  Casting\",numeric_strings.dtype)"
   ]
  },
  {
   "cell_type": "code",
   "execution_count": 56,
   "id": "6ca94f0c-af2f-43a0-901e-4e26b62cf62f",
   "metadata": {},
   "outputs": [
    {
     "data": {
      "text/plain": [
       "array([0., 1., 2., 3., 4., 5., 6., 7., 8., 9.])"
      ]
     },
     "execution_count": 56,
     "metadata": {},
     "output_type": "execute_result"
    }
   ],
   "source": [
    "#Another Way\n",
    "int_array = np.arange(10)\n",
    "calibers = np.array([.22, .270, .357, .380, .44, .50], dtype=np.float64)\n",
    "int_array.astype(calibers.dtype)\n",
    "#In this program we have created an array using arange function having dtype as int  and created another array haing dtype as float \n",
    "#then pass flaot array to astype method int array it would convert whole array to flaot array"
   ]
  },
  {
   "cell_type": "code",
   "execution_count": 61,
   "id": "2276ddfa-9217-49ad-a210-486b9ecd8cf5",
   "metadata": {},
   "outputs": [
    {
     "name": "stdout",
     "output_type": "stream",
     "text": [
      "[         0 1072693248          0 1072693248          0 1072693248\n",
      "          0 1072693248]\n"
     ]
    }
   ],
   "source": [
    "empty_uint32 = np.empty(8, dtype='u4') #you can also change type by only write code in dtype attribute\n",
    "print(empty_uint32)"
   ]
  },
  {
   "cell_type": "code",
   "execution_count": null,
   "id": "9fd6dfc8-8334-47e6-a000-04f3f26a9b04",
   "metadata": {},
   "outputs": [],
   "source": []
  }
 ],
 "metadata": {
  "kernelspec": {
   "display_name": "Python 3 (ipykernel)",
   "language": "python",
   "name": "python3"
  },
  "language_info": {
   "codemirror_mode": {
    "name": "ipython",
    "version": 3
   },
   "file_extension": ".py",
   "mimetype": "text/x-python",
   "name": "python",
   "nbconvert_exporter": "python",
   "pygments_lexer": "ipython3",
   "version": "3.11.7"
  }
 },
 "nbformat": 4,
 "nbformat_minor": 5
}
