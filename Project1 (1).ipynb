{
 "cells": [
  {
   "cell_type": "code",
   "execution_count": null,
   "id": "a8c45423-3ab4-4aa3-a5ae-5479f42c6ffb",
   "metadata": {},
   "outputs": [],
   "source": [
    "# PROJECT 1 STUDENT SUBJECT MARKS STATS\n",
    "#Mean: Calculate the mean score for each subject.\n",
    "# Median: Find the median score for each subject.\n",
    "# Variance and Standard Deviation: Determine the variance and standard deviation for each subject to understand the spread of the data.\n",
    "# Minimum and Maximum: Identify the highest and lowest scores in each subject.\n",
    "# Correlation: Analyze the correlation between scores in different subjects (e.g., Math vs. Science).\n",
    "# You can use this dataset to practice using NumPy's statistical functions and get comfortable with basic data manipulation."
   ]
  },
  {
   "cell_type": "code",
   "execution_count": 1,
   "id": "00be6119-f9ed-4405-89ed-540bcf56a869",
   "metadata": {},
   "outputs": [],
   "source": [
    "import numpy as np"
   ]
  },
  {
   "cell_type": "code",
   "execution_count": 2,
   "id": "2ba735ca-bc59-4c21-ab8c-e068bbc07f95",
   "metadata": {},
   "outputs": [],
   "source": [
    "# Load the CSV file\n",
    "data = np.genfromtxt('student_grades.csv', delimiter=',', skip_header=1)"
   ]
  },
  {
   "cell_type": "code",
   "execution_count": 3,
   "id": "b16fd53d-c97c-49c0-b6e6-2aa4dc27eb75",
   "metadata": {},
   "outputs": [
    {
     "name": "stdout",
     "output_type": "stream",
     "text": [
      "[[ 1. 85. 78. 92. 74. 88.]\n",
      " [ 2. 76. 85. 89. 91. 72.]\n",
      " [ 3. 90. 92. 94. 89. 95.]\n",
      " [ 4. 65. 70. 68. 80. 82.]\n",
      " [ 5. 88. 79. 85. 84. 90.]\n",
      " [ 6. 95. 88. 91. 92. 87.]\n",
      " [ 7. 72. 75. 80. 70. 78.]\n",
      " [ 8. 85. 90. 88. 86. 92.]\n",
      " [ 9. 78. 82. 79. 83. 76.]\n",
      " [10. 82. 85. 87. 88. 84.]]\n"
     ]
    }
   ],
   "source": [
    "# Display the loaded data\n",
    "print(data)"
   ]
  },
  {
   "cell_type": "code",
   "execution_count": 18,
   "id": "5872a312-e7db-4c31-9adb-0f993d69d649",
   "metadata": {},
   "outputs": [],
   "source": [
    "#Filtering data according to Subjects\n",
    "Math_Scores=data[:,1]\n",
    "English_Scores=data[:,2]\n",
    "Science_Scores=data[:,3]\n",
    "History_Scores=data[:,4]\n",
    "Art_Score=data[:,5]"
   ]
  },
  {
   "cell_type": "code",
   "execution_count": 27,
   "id": "80fdf196-d741-4705-9f00-76ebe2e9ee3d",
   "metadata": {},
   "outputs": [
    {
     "name": "stdout",
     "output_type": "stream",
     "text": [
      "Math Score Mean:\t81.6\n",
      "English Score Mean:\t82.4\n",
      "Science Score Mean:\t85.3\n",
      "History Score Mean:\t83.7\n",
      "Arts Score Mean:\t84.4\n"
     ]
    }
   ],
   "source": [
    "#Calculating mean\n",
    "print(f\"Math Score Mean:\\t{np.mean(Math_Scores)}\")\n",
    "print(f\"English Score Mean:\\t{np.mean(English_Scores)}\")\n",
    "print(f\"Science Score Mean:\\t{np.mean(Science_Scores)}\")\n",
    "print(f\"History Score Mean:\\t{np.mean(History_Scores)}\")\n",
    "print(f\"Arts Score Mean:\\t{np.mean(Art_Score)}\")"
   ]
  },
  {
   "cell_type": "code",
   "execution_count": 28,
   "id": "55987964-6d59-4459-9bda-52cc2d9fe1ea",
   "metadata": {},
   "outputs": [
    {
     "name": "stdout",
     "output_type": "stream",
     "text": [
      "Math Score Median:\t83.5\n",
      "English Score Median:\t83.5\n",
      "Science Score Median:\t87.5\n",
      "History Score Median:\t85.0\n",
      "Arts Score Median:\t85.5\n"
     ]
    }
   ],
   "source": [
    "#Calculating Median\n",
    "print(f\"Math Score Median:\\t{np.median(Math_Scores)}\")\n",
    "print(f\"English Score Median:\\t{np.median(English_Scores)}\")\n",
    "print(f\"Science Score Median:\\t{np.median(Science_Scores)}\")\n",
    "print(f\"History Score Median:\\t{np.median(History_Scores)}\")\n",
    "print(f\"Arts Score Median:\\t{np.median(Art_Score)}\")"
   ]
  },
  {
   "cell_type": "code",
   "execution_count": 30,
   "id": "a358206f-a3be-4f10-ac17-07b60d4824b9",
   "metadata": {},
   "outputs": [
    {
     "name": "stdout",
     "output_type": "stream",
     "text": [
      "Math Score Variance:\t72.63999999999999\n",
      "English Score Variance:\t43.440000000000005\n",
      "Science Score Variance:\t54.40999999999999\n",
      "History Score Variance:\t47.010000000000005\n",
      "Arts Score Varience:\t49.24000000000001\n"
     ]
    }
   ],
   "source": [
    "#Calculating Varience\n",
    "print(f\"Math Score Variance:\\t{np.var(Math_Scores)}\")\n",
    "print(f\"English Score Variance:\\t{np.var(English_Scores)}\")\n",
    "print(f\"Science Score Variance:\\t{np.var(Science_Scores)}\")\n",
    "print(f\"History Score Variance:\\t{np.var(History_Scores)}\")\n",
    "print(f\"Arts Score Varience:\\t{np.var(Art_Score)}\")"
   ]
  },
  {
   "cell_type": "code",
   "execution_count": 32,
   "id": "cf645051-161e-40dd-aaf4-bc4f7ec662d5",
   "metadata": {},
   "outputs": [
    {
     "name": "stdout",
     "output_type": "stream",
     "text": [
      "Math Score Standard Deviation:\t8.522910301065005\n",
      "English Score Standard Deviatioo:\t6.590902821313633\n",
      "Science Score Standard Deviation:\t7.37631344236401\n",
      "History Score Standard Deviation:\t6.856383886568779\n",
      "Arts Score Standard Deviation:\t7.017121917139534\n"
     ]
    }
   ],
   "source": [
    "#Calculating Standard Deviation\n",
    "print(f\"Math Score Standard Deviation:\\t{np.std(Math_Scores)}\")\n",
    "print(f\"English Score Standard Deviatioo:\\t{np.std(English_Scores)}\")\n",
    "print(f\"Science Score Standard Deviation:\\t{np.std(Science_Scores)}\")\n",
    "print(f\"History Score Standard Deviation:\\t{np.std(History_Scores)}\")\n",
    "print(f\"Arts Score Standard Deviation:\\t{np.std(Art_Score)}\")"
   ]
  },
  {
   "cell_type": "code",
   "execution_count": 34,
   "id": "1ae81d1f-b040-498b-9328-de09791e2edf",
   "metadata": {},
   "outputs": [
    {
     "name": "stdout",
     "output_type": "stream",
     "text": [
      "Math Score Maximum:\t95.0\n",
      "English Score Maximum:\t92.0\n",
      "Science Score Maximum:\t94.0\n",
      "History Score Maximum:\t92.0\n",
      "Arts Score Maximum:\t95.0\n"
     ]
    }
   ],
   "source": [
    "#Finding Maximum\n",
    "print(f\"Math Score Maximum:\\t{np.max(Math_Scores)}\")\n",
    "print(f\"English Score Maximum:\\t{np.max(English_Scores)}\")\n",
    "print(f\"Science Score Maximum:\\t{np.max(Science_Scores)}\")\n",
    "print(f\"History Score Maximum:\\t{np.max(History_Scores)}\")\n",
    "print(f\"Arts Score Maximum:\\t{np.max(Art_Score)}\")"
   ]
  },
  {
   "cell_type": "code",
   "execution_count": 35,
   "id": "93a99945-8af6-4dbb-be90-9dd4cf1c965d",
   "metadata": {},
   "outputs": [
    {
     "name": "stdout",
     "output_type": "stream",
     "text": [
      "Math Score Minimum:\t65.0\n",
      "English Score Minimum:\t70.0\n",
      "Science Score Minimum:\t68.0\n",
      "History Score Minimum:\t70.0\n",
      "Arts Score Minimum:\t72.0\n"
     ]
    }
   ],
   "source": [
    "#Finding Minumum\n",
    "print(f\"Math Score Minimum:\\t{np.min(Math_Scores)}\")\n",
    "print(f\"English Score Minimum:\\t{np.min(English_Scores)}\")\n",
    "print(f\"Science Score Minimum:\\t{np.min(Science_Scores)}\")\n",
    "print(f\"History Score Minimum:\\t{np.min(History_Scores)}\")\n",
    "print(f\"Arts Score Minimum:\\t{np.min(Art_Score)}\")"
   ]
  },
  {
   "cell_type": "code",
   "execution_count": 45,
   "id": "a8f90b35-6879-438f-9b2f-43fa44f13f09",
   "metadata": {},
   "outputs": [
    {
     "name": "stdout",
     "output_type": "stream",
     "text": [
      "Correlation Matrix:\n",
      "[[1.         0.7291672  0.82745249 0.49421298 0.66648496]\n",
      " [0.7291672  1.         0.77710138 0.73954808 0.40303427]\n",
      " [0.82745249 0.77710138 1.         0.41502853 0.44783192]\n",
      " [0.49421298 0.73954808 0.41502853 1.         0.15006626]\n",
      " [0.66648496 0.40303427 0.44783192 0.15006626 1.        ]]\n"
     ]
    }
   ],
   "source": [
    "#Co Relation B/W Math & Science\n",
    "math_and_science = data[:, [1, 3]]\n",
    "correlation_matrix = np.corrcoef(grades, rowvar=False)\n",
    "# Display the correlation matrix\n",
    "print(\"Correlation Matrix:\")\n",
    "print(correlation_matrix)"
   ]
  }
 ],
 "metadata": {
  "kernelspec": {
   "display_name": "Python 3 (ipykernel)",
   "language": "python",
   "name": "python3"
  },
  "language_info": {
   "codemirror_mode": {
    "name": "ipython",
    "version": 3
   },
   "file_extension": ".py",
   "mimetype": "text/x-python",
   "name": "python",
   "nbconvert_exporter": "python",
   "pygments_lexer": "ipython3",
   "version": "3.11.7"
  }
 },
 "nbformat": 4,
 "nbformat_minor": 5
}
