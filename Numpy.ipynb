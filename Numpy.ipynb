{
 "cells": [
  {
   "cell_type": "code",
   "execution_count": 1,
   "id": "edd35408-4d3e-4eae-898e-0b1a85985e30",
   "metadata": {},
   "outputs": [],
   "source": [
    "import numpy as np\n",
    "import random"
   ]
  },
  {
   "cell_type": "code",
   "execution_count": 3,
   "id": "a9447d2a-012d-4c01-b080-da7bb8b9ba2e",
   "metadata": {},
   "outputs": [
    {
     "name": "stdout",
     "output_type": "stream",
     "text": [
      "[1 2 3 4]\n"
     ]
    }
   ],
   "source": [
    "#Creation of numpy array\n",
    "x=np.array([1,2,3,4])\n",
    "print(x)"
   ]
  },
  {
   "cell_type": "code",
   "execution_count": 4,
   "id": "cbb4b2cf-5012-404c-b0b3-2e2c1c583bb1",
   "metadata": {},
   "outputs": [],
   "source": [
    "#Difference b/w numpy array and Python list\n",
    "#Numpy array works in matrics form and list work as single dimension even if you add muultiple list in it \n",
    "#Data type Storage \n",
    "#In Python list we can store multiple type of data wheras in numpy we can only add values of same data type\n",
    "#Importing Module\n",
    "#We dontr need to install any package while using python list wheras to use numpy we have to install it\n",
    "#Numerical Operations\n",
    "#List is although capable of Numerical operations but it has less efficiency but numpy array has vast variety of numerical operations with good speed\n",
    "#Modification Capabilities\n",
    "#Numpy array have less modification functions as compare to list\n",
    "#Memory consumption\n",
    "#List consume more memory as comapre to numpy array"
   ]
  },
  {
   "cell_type": "code",
   "execution_count": 13,
   "id": "e9da9360-7489-4c4f-ac1f-b1e979ee3f21",
   "metadata": {},
   "outputs": [],
   "source": [
    "#Time Consumption\n",
    "# a=%time np.arange(100000)\n",
    "# b=%time list(range(100000))\n",
    "# print(a)\n",
    "# print(b)"
   ]
  },
  {
   "cell_type": "code",
   "execution_count": 15,
   "id": "a089219e-881e-4e54-b454-640adf7050cf",
   "metadata": {},
   "outputs": [
    {
     "name": "stdout",
     "output_type": "stream",
     "text": [
      "[5 6 7 8]\n",
      "<class 'numpy.ndarray'>\n"
     ]
    }
   ],
   "source": [
    "#Numpy Array Creation\n",
    "arr=np.array([5,6,7,8])\n",
    "print(arr)\n",
    "print(type(arr))"
   ]
  },
  {
   "cell_type": "code",
   "execution_count": 17,
   "id": "543a0cf3-e80b-4ee7-b568-17d4b97e6360",
   "metadata": {},
   "outputs": [
    {
     "name": "stdin",
     "output_type": "stream",
     "text": [
      "Enter values in Array 67\n",
      "Enter values in Array 12\n",
      "Enter values in Array 98\n",
      "Enter values in Array 11\n",
      "Enter values in Array 71\n",
      "Enter values in Array 2\n",
      "Enter values in Array 19\n",
      "Enter values in Array 30\n",
      "Enter values in Array 21\n"
     ]
    },
    {
     "name": "stdout",
     "output_type": "stream",
     "text": [
      "[67 12 98 11 71  2 19 30 21]\n"
     ]
    }
   ],
   "source": [
    "l1=[]\n",
    "for i in range(1,10):\n",
    "    u=int(input(\"Enter values in Array\"))\n",
    "    l1.append(u)\n",
    "arr1=np.array(l1)\n",
    "print(arr1)"
   ]
  },
  {
   "cell_type": "code",
   "execution_count": 18,
   "id": "2f6ea2e0-a8c9-4999-afc6-a7b791647100",
   "metadata": {},
   "outputs": [
    {
     "name": "stdout",
     "output_type": "stream",
     "text": [
      "1\n"
     ]
    }
   ],
   "source": [
    "#Demensions in array\n",
    "#1-D Array [1,2,3,4]\n",
    "#2-D Array [[1,2,3,4]]\n",
    "#3-D Array [[[1,2,3,4]]\n",
    "#Higher Dimension Array\n",
    "print(arr1.ndim)"
   ]
  },
  {
   "cell_type": "code",
   "execution_count": 19,
   "id": "162d0c69-d930-406d-866e-cf1c62ce6a08",
   "metadata": {},
   "outputs": [
    {
     "data": {
      "text/plain": [
       "array([[1, 2, 3, 4],\n",
       "       [5, 6, 7, 8]])"
      ]
     },
     "execution_count": 19,
     "metadata": {},
     "output_type": "execute_result"
    }
   ],
   "source": [
    "arr2_D=np.array([[1,2,3,4],[5,6,7,8]])\n",
    "arr2_D"
   ]
  },
  {
   "cell_type": "code",
   "execution_count": 20,
   "id": "2a22f224-18e5-4326-afc4-8f4f92b7a2ca",
   "metadata": {},
   "outputs": [
    {
     "name": "stdout",
     "output_type": "stream",
     "text": [
      "2\n"
     ]
    }
   ],
   "source": [
    "print(arr2_D.ndim)"
   ]
  },
  {
   "cell_type": "code",
   "execution_count": 21,
   "id": "ff9618a3-63ef-4472-921e-d31dcc241e7a",
   "metadata": {},
   "outputs": [
    {
     "data": {
      "text/plain": [
       "array([[[ 1,  2,  3,  4],\n",
       "        [ 5,  6,  7,  8],\n",
       "        [ 9, 10, 11, 12]]])"
      ]
     },
     "execution_count": 21,
     "metadata": {},
     "output_type": "execute_result"
    }
   ],
   "source": [
    "arr3_D=np.array([[[1,2,3,4],[5,6,7,8],[9,10,11,12]]])\n",
    "arr3_D"
   ]
  },
  {
   "cell_type": "code",
   "execution_count": 22,
   "id": "63819c26-09c9-4bb6-90ca-ce46c6f55cb2",
   "metadata": {},
   "outputs": [
    {
     "name": "stdout",
     "output_type": "stream",
     "text": [
      "3\n"
     ]
    }
   ],
   "source": [
    "print(arr3_D.ndim)"
   ]
  },
  {
   "cell_type": "code",
   "execution_count": 29,
   "id": "4ee26198-2f7d-48fb-a2b4-a018fa5d5378",
   "metadata": {},
   "outputs": [
    {
     "data": {
      "text/plain": [
       "array([[[[[1, 2, 3, 4],\n",
       "          [5, 6, 7, 8]]]]])"
      ]
     },
     "execution_count": 29,
     "metadata": {},
     "output_type": "execute_result"
    }
   ],
   "source": [
    "#Multidimensional Array\n",
    "arn=np.array([1,2,3,4,5],ndmin=6) #ndmin indicates no of dimensions of array\n",
    "arn1=np.array([[1,2,3,4],[5,6,7,8]],ndmin=5) #ndmin indicates no of dimensions of array\n",
    "arn\n",
    "arn1"
   ]
  },
  {
   "cell_type": "code",
   "execution_count": 31,
   "id": "09802045-3e8a-4537-8b3f-06dfd8aed280",
   "metadata": {},
   "outputs": [
    {
     "data": {
      "text/plain": [
       "array([0., 0., 0., 0., 0., 0., 0., 0., 0., 0., 0., 0.])"
      ]
     },
     "execution_count": 31,
     "metadata": {},
     "output_type": "execute_result"
    }
   ],
   "source": [
    "#Creating Numpy Array using Functions \n",
    "#zero array\n",
    "arr_zero=np.zeros(12)\n",
    "arr_zero"
   ]
  },
  {
   "cell_type": "code",
   "execution_count": 35,
   "id": "7d851ca7-e7f6-42ba-951e-ff2195e8036b",
   "metadata": {},
   "outputs": [
    {
     "name": "stdout",
     "output_type": "stream",
     "text": [
      "[[0. 0. 0. 0.]\n",
      " [0. 0. 0. 0.]\n",
      " [0. 0. 0. 0.]]\n",
      "2\n"
     ]
    }
   ],
   "source": [
    "arr_zero1=np.zeros((3,4))\n",
    "print(arr_zero1)\n",
    "print(arr_zero1.ndim)"
   ]
  },
  {
   "cell_type": "code",
   "execution_count": 39,
   "id": "ccbfb79e-d838-4826-bab8-4dfa5d11248d",
   "metadata": {},
   "outputs": [
    {
     "name": "stdout",
     "output_type": "stream",
     "text": [
      "[[[0. 0. 0.]\n",
      "  [0. 0. 0.]\n",
      "  [0. 0. 0.]\n",
      "  [0. 0. 0.]]\n",
      "\n",
      " [[0. 0. 0.]\n",
      "  [0. 0. 0.]\n",
      "  [0. 0. 0.]\n",
      "  [0. 0. 0.]]\n",
      "\n",
      " [[0. 0. 0.]\n",
      "  [0. 0. 0.]\n",
      "  [0. 0. 0.]\n",
      "  [0. 0. 0.]]]\n",
      "3\n"
     ]
    }
   ],
   "source": [
    "arr_zero2=np.zeros((3,4,3))\n",
    "print(arr_zero2)\n",
    "print(arr_zero2.ndim)"
   ]
  },
  {
   "cell_type": "code",
   "execution_count": 41,
   "id": "da38a27d-5758-4d14-bc25-6aceb30677c1",
   "metadata": {},
   "outputs": [
    {
     "name": "stdout",
     "output_type": "stream",
     "text": [
      "[1. 1. 1. 1. 1. 1. 1. 1.]\n",
      "1\n"
     ]
    }
   ],
   "source": [
    "#ones\n",
    "arr_ones=np.ones(8)\n",
    "print(arr_ones)\n",
    "print(arr_ones.ndim)"
   ]
  },
  {
   "cell_type": "code",
   "execution_count": 44,
   "id": "cbf1fb52-09fb-4b13-83ba-ac7d9e030ca2",
   "metadata": {},
   "outputs": [
    {
     "name": "stdout",
     "output_type": "stream",
     "text": [
      "[[1. 1. 1. 1.]\n",
      " [1. 1. 1. 1.]]\n",
      "2\n"
     ]
    }
   ],
   "source": [
    "arr_ones2=np.ones((2,4))\n",
    "print(arr_ones2)\n",
    "print(arr_ones2.ndim)"
   ]
  },
  {
   "cell_type": "code",
   "execution_count": 45,
   "id": "f0bdbb13-fe24-4839-971c-fe629d98037a",
   "metadata": {},
   "outputs": [
    {
     "name": "stdout",
     "output_type": "stream",
     "text": [
      "[[[1. 1.]\n",
      "  [1. 1.]\n",
      "  [1. 1.]\n",
      "  [1. 1.]]\n",
      "\n",
      " [[1. 1.]\n",
      "  [1. 1.]\n",
      "  [1. 1.]\n",
      "  [1. 1.]]]\n",
      "3\n"
     ]
    }
   ],
   "source": [
    "arr_ones2=np.ones((2,4,2))\n",
    "print(arr_ones2)\n",
    "print(arr_ones2.ndim)"
   ]
  },
  {
   "cell_type": "code",
   "execution_count": 48,
   "id": "b405c0da-3de1-4803-bddb-e5f07b85940a",
   "metadata": {},
   "outputs": [
    {
     "data": {
      "text/plain": [
       "array([2.12199579e-314, 9.50654114e-312, 4.70350495e-321, 6.95187041e-310,\n",
       "       5.33590898e-322])"
      ]
     },
     "execution_count": 48,
     "metadata": {},
     "output_type": "execute_result"
    }
   ],
   "source": [
    "#Empty Array\n",
    "arr_empty=np.empty(5)\n",
    "arr_empty #data of previous array c"
   ]
  },
  {
   "cell_type": "code",
   "execution_count": 50,
   "id": "b5f11994-17c5-4cdf-b21e-a7f8edfae50a",
   "metadata": {},
   "outputs": [
    {
     "data": {
      "text/plain": [
       "array([ 0,  1,  2,  3,  4,  5,  6,  7,  8,  9, 10, 11])"
      ]
     },
     "execution_count": 50,
     "metadata": {},
     "output_type": "execute_result"
    }
   ],
   "source": [
    "#Range Array\n",
    "arr_arrange=np.arange(12)\n",
    "arr_arrange"
   ]
  },
  {
   "cell_type": "code",
   "execution_count": 51,
   "id": "aec1a5e3-43dc-45f6-85da-3ba04154f16a",
   "metadata": {},
   "outputs": [
    {
     "data": {
      "text/plain": [
       "array([[1., 0., 0.],\n",
       "       [0., 1., 0.],\n",
       "       [0., 0., 1.]])"
      ]
     },
     "execution_count": 51,
     "metadata": {},
     "output_type": "execute_result"
    }
   ],
   "source": [
    "#Diagonal Matrix\n",
    "arr_dig=np.eye(3)\n",
    "arr_dig"
   ]
  },
  {
   "cell_type": "code",
   "execution_count": 54,
   "id": "8189f12e-2c31-4418-880d-f26005a25eb1",
   "metadata": {},
   "outputs": [
    {
     "data": {
      "text/plain": [
       "array([[1., 0., 0., 0., 0.],\n",
       "       [0., 1., 0., 0., 0.],\n",
       "       [0., 0., 1., 0., 0.]])"
      ]
     },
     "execution_count": 54,
     "metadata": {},
     "output_type": "execute_result"
    }
   ],
   "source": [
    "arr_dig=np.eye(3,5)\n",
    "arr_dig"
   ]
  },
  {
   "cell_type": "code",
   "execution_count": 53,
   "id": "d5ecf8bd-ea6e-446f-9da8-c4402de9fe80",
   "metadata": {},
   "outputs": [
    {
     "name": "stdout",
     "output_type": "stream",
     "text": [
      "[ 1.    3.25  5.5   7.75 10.  ]\n"
     ]
    }
   ],
   "source": [
    "#Array with Evenly space\n",
    "arr_lin=np.linspace(1,10,num=5)\n",
    "print(arr_lin)"
   ]
  },
  {
   "cell_type": "code",
   "execution_count": 58,
   "id": "e424baac-a5d7-444c-a68c-f3c3dda04b84",
   "metadata": {},
   "outputs": [
    {
     "name": "stdout",
     "output_type": "stream",
     "text": [
      "[ 1.          3.11111111  5.22222222  7.33333333  9.44444444 11.55555556\n",
      " 13.66666667 15.77777778 17.88888889 20.        ]\n"
     ]
    }
   ],
   "source": [
    "arr_lin=np.linspace(1,20,num=10)\n",
    "print(arr_lin)"
   ]
  },
  {
   "cell_type": "code",
   "execution_count": 2,
   "id": "ddffb62b-62d7-402e-b260-95d15bb819ca",
   "metadata": {},
   "outputs": [
    {
     "name": "stdout",
     "output_type": "stream",
     "text": [
      "[0.53893303 0.22355695 0.56835451 0.92285794 0.47275789 0.50260422\n",
      " 0.25845422 0.02965327]\n"
     ]
    }
   ],
   "source": [
    "#Creating Arrays with Random Number\n",
    "#rand() generate array with value b/w 0 & 1\n",
    "arr=np.random.rand(8)\n",
    "print(arr)"
   ]
  },
  {
   "cell_type": "code",
   "execution_count": 3,
   "id": "33103fd3-7034-4696-9d2c-94e1143adfda",
   "metadata": {},
   "outputs": [
    {
     "name": "stdout",
     "output_type": "stream",
     "text": [
      "[[0.4147354  0.3636789  0.104998   0.69742463 0.87758189]\n",
      " [0.89331185 0.14466618 0.81923516 0.54255814 0.08932414]]\n"
     ]
    }
   ],
   "source": [
    "arr1=np.random.rand(2,5)\n",
    "print(arr1)"
   ]
  },
  {
   "cell_type": "code",
   "execution_count": 4,
   "id": "3f93e574-0778-49e2-b5f6-a15f9de0b4b8",
   "metadata": {},
   "outputs": [
    {
     "data": {
      "text/plain": [
       "array([-0.56472223, -2.01359311,  0.8636225 ,  0.11159018,  1.13162137])"
      ]
     },
     "execution_count": 4,
     "metadata": {},
     "output_type": "execute_result"
    }
   ],
   "source": [
    "#randn : generate an array with values close to zero numbers may be positive or negative\n",
    "arr=np.random.randn(5)\n",
    "arr"
   ]
  },
  {
   "cell_type": "code",
   "execution_count": 6,
   "id": "887b56c2-e602-4015-802b-491f89b6eb4e",
   "metadata": {},
   "outputs": [
    {
     "data": {
      "text/plain": [
       "array([[ 0.75651096, -0.49114422, -0.23814868, -1.34201639],\n",
       "       [-1.3026231 ,  0.43029598,  2.07738518,  1.88754944],\n",
       "       [-1.49321671, -0.56980674, -0.37022072, -0.79328077],\n",
       "       [-0.64110959, -0.10001713,  1.48601244, -0.27330604],\n",
       "       [ 1.27336747, -0.06890072,  1.12415396, -1.82701757]])"
      ]
     },
     "execution_count": 6,
     "metadata": {},
     "output_type": "execute_result"
    }
   ],
   "source": [
    "arr1=np.random.randn(5,4)\n",
    "arr1"
   ]
  },
  {
   "cell_type": "code",
   "execution_count": 7,
   "id": "c949918c-3f60-450f-83d9-2cc14ab57071",
   "metadata": {},
   "outputs": [
    {
     "data": {
      "text/plain": [
       "array([0.12586379, 0.87365347, 0.03554485, 0.60596576, 0.72138389])"
      ]
     },
     "execution_count": 7,
     "metadata": {},
     "output_type": "execute_result"
    }
   ],
   "source": [
    "#ranf\n",
    "arr=np.random.ranf(5)\n",
    "arr"
   ]
  },
  {
   "cell_type": "code",
   "execution_count": 9,
   "id": "3e7e16bc-b6fb-4435-bede-d04a5455bb1a",
   "metadata": {},
   "outputs": [
    {
     "data": {
      "text/plain": [
       "array([3, 3, 1, 5])"
      ]
     },
     "execution_count": 9,
     "metadata": {},
     "output_type": "execute_result"
    }
   ],
   "source": [
    "#randint\n",
    "arr=np.random.randint(1,10,4) # np.random.randint(min,max,total)\n",
    "arr"
   ]
  },
  {
   "cell_type": "code",
   "execution_count": 16,
   "id": "211b9b91-c371-4852-9aaa-b57122b5ec29",
   "metadata": {},
   "outputs": [
    {
     "name": "stdout",
     "output_type": "stream",
     "text": [
      "int8\n"
     ]
    }
   ],
   "source": [
    "#Data Types in Numpy\n",
    "arr=np.array([1,2,3,4],dtype=np.int8)\n",
    "print(arr.dtype)\n"
   ]
  },
  {
   "cell_type": "code",
   "execution_count": 11,
   "id": "7ccb8686-da1f-45f5-bc68-00bffaec83be",
   "metadata": {},
   "outputs": [
    {
     "name": "stdout",
     "output_type": "stream",
     "text": [
      "float64\n"
     ]
    }
   ],
   "source": [
    "arr=np.array([1.1,5,7,4,9,5,0])\n",
    "print(arr.dtype)"
   ]
  },
  {
   "cell_type": "code",
   "execution_count": 12,
   "id": "65e3d70d-bdd0-46fc-bdcd-57d025235d6a",
   "metadata": {},
   "outputs": [
    {
     "name": "stdout",
     "output_type": "stream",
     "text": [
      "<U1\n"
     ]
    }
   ],
   "source": [
    "arr=np.array([\"s\",\"a\"])\n",
    "print(arr.dtype)"
   ]
  },
  {
   "cell_type": "code",
   "execution_count": 13,
   "id": "73cb17ac-4ef2-4414-80b8-1a4181d15e38",
   "metadata": {},
   "outputs": [
    {
     "name": "stdout",
     "output_type": "stream",
     "text": [
      "<U11\n"
     ]
    }
   ],
   "source": [
    "arr=np.array([1,2,3,4,\"a\",\"b\"])\n",
    "print(arr.dtype)"
   ]
  },
  {
   "cell_type": "code",
   "execution_count": 3,
   "id": "c5c033c1-ee2f-4a15-a9c2-b771194f03e7",
   "metadata": {},
   "outputs": [
    {
     "name": "stdout",
     "output_type": "stream",
     "text": [
      "float32\n"
     ]
    }
   ],
   "source": [
    "arr=np.array([1,2,3,4])\n",
    "new=np.float32(arr)\n",
    "print(new.dtype)"
   ]
  },
  {
   "cell_type": "code",
   "execution_count": 4,
   "id": "9d1bd6ba-8338-4d6c-9165-78fe5193720e",
   "metadata": {},
   "outputs": [
    {
     "data": {
      "text/plain": [
       "array(['1.0', '2.0', '3.0', '4.0'], dtype='<U32')"
      ]
     },
     "execution_count": 4,
     "metadata": {},
     "output_type": "execute_result"
    }
   ],
   "source": [
    "#astype\n",
    "new.astype(str)"
   ]
  },
  {
   "cell_type": "code",
   "execution_count": 6,
   "id": "d02506ff-ec09-49d4-bab3-423d3c1a3d91",
   "metadata": {},
   "outputs": [
    {
     "name": "stdout",
     "output_type": "stream",
     "text": [
      "[[1 2 3 4]\n",
      " [5 6 7 8]]\n",
      "(2, 4)\n"
     ]
    }
   ],
   "source": [
    "#Shape and Reshape\n",
    "arr=np.array([[1,2,3,4],[5,6,7,8]])\n",
    "print(arr)\n",
    "print(arr.shape)"
   ]
  },
  {
   "cell_type": "code",
   "execution_count": 9,
   "id": "645b19c4-f134-42ca-91b9-42e53e6b77a4",
   "metadata": {},
   "outputs": [
    {
     "name": "stdout",
     "output_type": "stream",
     "text": [
      "[[[[1 2 3 4]]]]\n",
      "(1, 1, 1, 4)\n"
     ]
    }
   ],
   "source": [
    "arr=np.array([1,2,3,4],ndmin=4)\n",
    "print(arr)\n",
    "print(arr.shape) # "
   ]
  },
  {
   "cell_type": "code",
   "execution_count": 11,
   "id": "cd707711-9fa1-4350-ace0-648dddb5682a",
   "metadata": {},
   "outputs": [
    {
     "name": "stdout",
     "output_type": "stream",
     "text": [
      "[[[[1 2 3 4]\n",
      "   [1 2 3 4]]]]\n",
      "(1, 1, 2, 4)\n"
     ]
    }
   ],
   "source": [
    "arr=np.array([[1,2,3,4],[1,2,3,4]],ndmin=4)\n",
    "print(arr)\n",
    "print(arr.shape) #"
   ]
  },
  {
   "cell_type": "code",
   "execution_count": 13,
   "id": "12d942a6-8e2a-48f9-ba47-165d05da8d67",
   "metadata": {},
   "outputs": [
    {
     "name": "stdout",
     "output_type": "stream",
     "text": [
      "[[[[1 2 3 4]\n",
      "   [1 2 3 4]\n",
      "   [1 2 3 4]]]]\n",
      "(1, 1, 3, 4)\n"
     ]
    }
   ],
   "source": [
    "arr=np.array([[[1,2,3,4],[1,2,3,4],[1,2,3,4]]],ndmin=4)\n",
    "print(arr)\n",
    "print(arr.shape) #"
   ]
  },
  {
   "cell_type": "code",
   "execution_count": 14,
   "id": "50940271-2ce6-44b1-9370-34474b93d869",
   "metadata": {},
   "outputs": [
    {
     "name": "stdout",
     "output_type": "stream",
     "text": [
      "[[1 2]\n",
      " [3 4]\n",
      " [5 6]]\n"
     ]
    }
   ],
   "source": [
    "arr=np.array([1,2,3,4,5,6])\n",
    "print(arr.reshape(3,2))"
   ]
  },
  {
   "cell_type": "code",
   "execution_count": 21,
   "id": "1243cdc4-3639-4236-b372-74efeb649c00",
   "metadata": {},
   "outputs": [
    {
     "name": "stdout",
     "output_type": "stream",
     "text": [
      "[[[ 1  2]\n",
      "  [ 3  4]\n",
      "  [ 5  6]]\n",
      "\n",
      " [[ 7  8]\n",
      "  [ 9 10]\n",
      "  [11 12]]]\n"
     ]
    }
   ],
   "source": [
    "arr=np.array([1,2,3,4,5,6,7,8,9,10,11,12])\n",
    "x=arr.reshape(2,3,2)\n",
    "print(x)"
   ]
  },
  {
   "cell_type": "code",
   "execution_count": 20,
   "id": "633b9354-1ff7-4acf-8630-0cfbf36a0645",
   "metadata": {},
   "outputs": [
    {
     "name": "stdout",
     "output_type": "stream",
     "text": [
      "[ 1  2  3  4  5  6  7  8  9 10 11 12]\n"
     ]
    }
   ],
   "source": [
    "arr=np.array([1,2,3,4,5,6,7,8,9,10,11,12])\n",
    "x=arr.reshape(2,3,2)\n",
    "one=x.reshape(-1)\n",
    "print(one)"
   ]
  },
  {
   "cell_type": "code",
   "execution_count": 3,
   "id": "2eea899a-bbb6-4e88-8b56-ffdffb5efe6f",
   "metadata": {},
   "outputs": [
    {
     "name": "stdout",
     "output_type": "stream",
     "text": [
      "[4 5 6 7]\n"
     ]
    }
   ],
   "source": [
    "#Arithmetic Operations in Numpy Array\n",
    "arr=np.array([1,2,3,4])\n",
    "arr=arr+3 #Addition\n",
    "print(arr)"
   ]
  },
  {
   "cell_type": "code",
   "execution_count": 5,
   "id": "d79b1df1-430f-44d5-b15a-7c49f6d77d22",
   "metadata": {},
   "outputs": [
    {
     "name": "stdout",
     "output_type": "stream",
     "text": [
      "[2 4 6 8]\n"
     ]
    }
   ],
   "source": [
    "arr=np.array([1,2,3,4])\n",
    "arr1=np.array([1,2,3,4])\n",
    "arr3=arr+arr1 #Addition\n",
    "print(arr3)\n",
    "#Same subraction,Multiplication and Division can be performed"
   ]
  },
  {
   "cell_type": "code",
   "execution_count": 6,
   "id": "5aacef8c-8449-4b3e-97a9-a9c27b04cbc1",
   "metadata": {},
   "outputs": [
    {
     "name": "stdout",
     "output_type": "stream",
     "text": [
      "[2 4 6 8]\n"
     ]
    }
   ],
   "source": [
    "arr=np.array([1,2,3,4])\n",
    "arr1=np.array([1,2,3,4])\n",
    "arr3=np.add(arr,arr1) #Addition\n",
    "print(arr3)\n",
    "#Same subraction,Multiplication and Division can be performed"
   ]
  },
  {
   "cell_type": "code",
   "execution_count": 8,
   "id": "4b866658-d20f-44ba-a3c2-3ddb10a1e556",
   "metadata": {},
   "outputs": [
    {
     "name": "stdout",
     "output_type": "stream",
     "text": [
      "[[1 2 3 4]\n",
      " [5 6 7 8]]\n",
      "[[1 2 3 4]\n",
      " [5 6 7 8]]\n",
      "Result\n",
      "[[ 2  4  6  8]\n",
      " [10 12 14 16]]\n"
     ]
    }
   ],
   "source": [
    "#2D Array\n",
    "arr=np.array([[1,2,3,4],[5,6,7,8]])\n",
    "print(arr)\n",
    "arr1=np.array([[1,2,3,4],[5,6,7,8]])\n",
    "print(arr1)\n",
    "print(\"Result\")\n",
    "arr3=np.add(arr,arr1) #Addition\n",
    "print(arr3)"
   ]
  },
  {
   "cell_type": "code",
   "execution_count": null,
   "id": "e6f2321a-f0d8-40c0-b186-6de9c63f6860",
   "metadata": {},
   "outputs": [],
   "source": [
    "#axis=0 works along rows\n",
    "#axis=1 works along columns"
   ]
  }
 ],
 "metadata": {
  "kernelspec": {
   "display_name": "Python 3 (ipykernel)",
   "language": "python",
   "name": "python3"
  },
  "language_info": {
   "codemirror_mode": {
    "name": "ipython",
    "version": 3
   },
   "file_extension": ".py",
   "mimetype": "text/x-python",
   "name": "python",
   "nbconvert_exporter": "python",
   "pygments_lexer": "ipython3",
   "version": "3.11.7"
  }
 },
 "nbformat": 4,
 "nbformat_minor": 5
}
